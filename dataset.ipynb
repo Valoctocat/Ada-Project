{
 "cells": [
  {
   "cell_type": "code",
   "execution_count": 1,
   "metadata": {},
   "outputs": [],
   "source": [
    "# Add your imports here\n",
    "import pandas as pd\n",
    "import numpy as np\n",
    "import scipy as sp\n",
    "%matplotlib inline\n",
    "\n",
    "import findspark\n",
    "findspark.init('/opt/spark/spark-2.3.2-bin-hadoop2.7')\n",
    "\n",
    "from pyspark.sql import *\n",
    "from pyspark.sql.functions import *\n",
    "from pyspark.sql.functions import min\n",
    "\n",
    "from pyspark.sql import SparkSession\n",
    "from pyspark import SparkContext\n",
    "\n",
    "spark = SparkSession.builder.getOrCreate()\n",
    "sc = spark.sparkContext"
   ]
  },
  {
   "cell_type": "code",
   "execution_count": 16,
   "metadata": {},
   "outputs": [
    {
     "name": "stdout",
     "output_type": "stream",
     "text": [
      "+-------------+--------------------+--------------------+----------+--------------------+---------------+----------------------+--------------------+------------+--------+-------------------+-------------------+--------------------+--------------------+--------------------+--------------------+--------------------+-------+------------+--------------------+-------------------------+------+-----------+---------+---------+--------------+------------------------+------+-----------+---------------+------+---------+--------------+------------+--------------------+------------------+------------+------+-----------+---------+------------+----------------+-------------+-----------+--------------------+--------------------+--------------------+---------------------------+-------------------------+------------------------------+---------------------------------------+-------------------------------------+------------------------------------------+------------------+------------------+--------------------+-------------+--------------------+--------------------+--------------------+--------------------+--------------------+---------+---------------+---------------------+---------------------------+-------------------+-------------------------+-----------+--------------------+--------+------------------+------------------+------------------+-------------------+-----------------+-----------------+-------------------+-------------------+------------------+--------------------+------------------+---------------------+------------------+-------------------+-------------------+------------------------+------------------------+----------------+--------------------------+---------------------------+--------------------------+----------------+-------------------+----------------------+--------------------------+---------------------------------+----------------+----------------+------------------+------------------+---------------+-----------------+-------------------+--------------+----------------+------------------+-----------+-------------+-------------+--------------+-------------+-------------+-------------------+-----------+------------+----------+-------------+-----------+-------------------+----------------+---------+------------------+------------+--------------+------------------+--------------+--------------+--------------+--------------+---------------+---------------+---------------+---------------+---------------+------------+----------------+-----------+---------------------+-----------+----------------+--------------+-------------+------------+---------------+---------+--------------+---------+-----------+--------------+-------------+-------------+-------------+---------------+-----------+-------------+------------+-------+---------------------------+------------------------------------+--------------------------------+----------+---------------+---------------------+-----------------------+-----------------------+-------------------+-------------------+------------+------------------+----------------+-------------+--------------+\n",
      "|         code|                 url|             creator| created_t|    created_datetime|last_modified_t|last_modified_datetime|        product_name|generic_name|quantity|          packaging|     packaging_tags|              brands|         brands_tags|          categories|     categories_tags|       categories_en|origins|origins_tags|manufacturing_places|manufacturing_places_tags|labels|labels_tags|labels_en|emb_codes|emb_codes_tags|first_packaging_code_geo|cities|cities_tags|purchase_places|stores|countries|countries_tags|countries_en|    ingredients_text|         allergens|allergens_en|traces|traces_tags|traces_en|serving_size|serving_quantity|no_nutriments|additives_n|           additives|      additives_tags|        additives_en|ingredients_from_palm_oil_n|ingredients_from_palm_oil|ingredients_from_palm_oil_tags|ingredients_that_may_be_from_palm_oil_n|ingredients_that_may_be_from_palm_oil|ingredients_that_may_be_from_palm_oil_tags|nutrition_grade_uk|nutrition_grade_fr|       pnns_groups_1|pnns_groups_2|              states|         states_tags|           states_en|       main_category|    main_category_en|image_url|image_small_url|image_ingredients_url|image_ingredients_small_url|image_nutrition_url|image_nutrition_small_url|energy_100g|energy-from-fat_100g|fat_100g|saturated-fat_100g|-butyric-acid_100g|-caproic-acid_100g|-caprylic-acid_100g|-capric-acid_100g|-lauric-acid_100g|-myristic-acid_100g|-palmitic-acid_100g|-stearic-acid_100g|-arachidic-acid_100g|-behenic-acid_100g|-lignoceric-acid_100g|-cerotic-acid_100g|-montanic-acid_100g|-melissic-acid_100g|monounsaturated-fat_100g|polyunsaturated-fat_100g|omega-3-fat_100g|-alpha-linolenic-acid_100g|-eicosapentaenoic-acid_100g|-docosahexaenoic-acid_100g|omega-6-fat_100g|-linoleic-acid_100g|-arachidonic-acid_100g|-gamma-linolenic-acid_100g|-dihomo-gamma-linolenic-acid_100g|omega-9-fat_100g|-oleic-acid_100g|-elaidic-acid_100g|-gondoic-acid_100g|-mead-acid_100g|-erucic-acid_100g|-nervonic-acid_100g|trans-fat_100g|cholesterol_100g|carbohydrates_100g|sugars_100g|-sucrose_100g|-glucose_100g|-fructose_100g|-lactose_100g|-maltose_100g|-maltodextrins_100g|starch_100g|polyols_100g|fiber_100g|proteins_100g|casein_100g|serum-proteins_100g|nucleotides_100g|salt_100g|       sodium_100g|alcohol_100g|vitamin-a_100g|beta-carotene_100g|vitamin-d_100g|vitamin-e_100g|vitamin-k_100g|vitamin-c_100g|vitamin-b1_100g|vitamin-b2_100g|vitamin-pp_100g|vitamin-b6_100g|vitamin-b9_100g|folates_100g|vitamin-b12_100g|biotin_100g|pantothenic-acid_100g|silica_100g|bicarbonate_100g|potassium_100g|chloride_100g|calcium_100g|phosphorus_100g|iron_100g|magnesium_100g|zinc_100g|copper_100g|manganese_100g|fluoride_100g|selenium_100g|chromium_100g|molybdenum_100g|iodine_100g|caffeine_100g|taurine_100g|ph_100g|fruits-vegetables-nuts_100g|fruits-vegetables-nuts-estimate_100g|collagen-meat-protein-ratio_100g|cocoa_100g|chlorophyl_100g|carbon-footprint_100g|nutrition-score-fr_100g|nutrition-score-uk_100g|glycemic-index_100g|water-hardness_100g|choline_100g|phylloquinone_100g|beta-glucan_100g|inositol_100g|carnitine_100g|\n",
      "+-------------+--------------------+--------------------+----------+--------------------+---------------+----------------------+--------------------+------------+--------+-------------------+-------------------+--------------------+--------------------+--------------------+--------------------+--------------------+-------+------------+--------------------+-------------------------+------+-----------+---------+---------+--------------+------------------------+------+-----------+---------------+------+---------+--------------+------------+--------------------+------------------+------------+------+-----------+---------+------------+----------------+-------------+-----------+--------------------+--------------------+--------------------+---------------------------+-------------------------+------------------------------+---------------------------------------+-------------------------------------+------------------------------------------+------------------+------------------+--------------------+-------------+--------------------+--------------------+--------------------+--------------------+--------------------+---------+---------------+---------------------+---------------------------+-------------------+-------------------------+-----------+--------------------+--------+------------------+------------------+------------------+-------------------+-----------------+-----------------+-------------------+-------------------+------------------+--------------------+------------------+---------------------+------------------+-------------------+-------------------+------------------------+------------------------+----------------+--------------------------+---------------------------+--------------------------+----------------+-------------------+----------------------+--------------------------+---------------------------------+----------------+----------------+------------------+------------------+---------------+-----------------+-------------------+--------------+----------------+------------------+-----------+-------------+-------------+--------------+-------------+-------------+-------------------+-----------+------------+----------+-------------+-----------+-------------------+----------------+---------+------------------+------------+--------------+------------------+--------------+--------------+--------------+--------------+---------------+---------------+---------------+---------------+---------------+------------+----------------+-----------+---------------------+-----------+----------------+--------------+-------------+------------+---------------+---------+--------------+---------+-----------+--------------+-------------+-------------+-------------+---------------+-----------+-------------+------------+-------+---------------------------+------------------------------------+--------------------------------+----------+---------------+---------------------+-----------------------+-----------------------+-------------------+-------------------+------------+------------------+----------------+-------------+--------------+\n",
      "|0000000000017|http://world-en.o...|             kiliweb|1529059080|2018-06-15T10:38:00Z|     1529059204|  2018-06-15T10:40:04Z|    Vitória crackers|        null|    null|               null|               null|                null|                null|                null|                null|                null|   null|        null|                null|                     null|  null|       null|     null|     null|          null|                    null|  null|       null|           null|  null|en:france|     en:france|      France|                null|              null|        null|  null|       null|     null|        null|               0|         null|       null|                null|                null|                null|                       null|                     null|                          null|                                   null|                                 null|                                      null|              null|              null|                null|         null|en:to-be-complete...|en:to-be-complete...|To be completed,N...|                null|                null|     null|           null|                 null|                       null|               null|                     null|       1569|                null|       7|              3.08|              null|              null|               null|             null|             null|               null|               null|              null|                null|              null|                 null|              null|               null|               null|                    null|                    null|            null|                      null|                       null|                      null|            null|               null|                  null|                      null|                             null|            null|            null|              null|              null|           null|             null|               null|          null|            null|              70.1|         15|         null|         null|          null|         null|         null|               null|       null|        null|      null|          7.8|       null|               null|            null|      1.4| 0.551181102362205|        null|          null|              null|          null|          null|          null|          null|           null|           null|           null|           null|           null|        null|            null|       null|                 null|       null|            null|          null|         null|        null|           null|     null|          null|     null|       null|          null|         null|         null|         null|           null|       null|         null|        null|   null|                       null|                                null|                            null|      null|           null|                 null|                   null|                   null|               null|               null|        null|              null|            null|         null|          null|\n",
      "|0000000000031|http://world-en.o...|            isagoofy|1539464774|2018-10-13T21:06:14Z|     1539464817|  2018-10-13T21:06:57Z|               Cacao|        null|   130 g|               null|               null|                null|                null|                null|                null|                null|   null|        null|                null|                     null|  null|       null|     null|     null|          null|                    null|  null|       null|           null|  null|    en:FR|     en:france|      France|                null|              null|        null|  null|       null|     null|        null|               0|         null|       null|                null|                null|                null|                       null|                     null|                          null|                                   null|                                 null|                                      null|              null|              null|                null|         null|en:to-be-complete...|en:to-be-complete...|To be completed,N...|                null|                null|     null|           null|                 null|                       null|               null|                     null|       null|                null|    null|              null|              null|              null|               null|             null|             null|               null|               null|              null|                null|              null|                 null|              null|               null|               null|                    null|                    null|            null|                      null|                       null|                      null|            null|               null|                  null|                      null|                             null|            null|            null|              null|              null|           null|             null|               null|          null|            null|              null|       null|         null|         null|          null|         null|         null|               null|       null|        null|      null|         null|       null|               null|            null|     null|              null|        null|          null|              null|          null|          null|          null|          null|           null|           null|           null|           null|           null|        null|            null|       null|                 null|       null|            null|          null|         null|        null|           null|     null|          null|     null|       null|          null|         null|         null|         null|           null|       null|         null|        null|   null|                       null|                                null|                            null|      null|           null|                 null|                   null|                   null|               null|               null|        null|              null|            null|         null|          null|\n",
      "|0000000000123|http://world-en.o...|             kiliweb|1535737982|2018-08-31T17:53:02Z|     1535737986|  2018-08-31T17:53:06Z|Sauce Sweety chil...|        null|    null|               null|               null|                null|                null|                null|                null|                null|   null|        null|                null|                     null|  null|       null|     null|     null|          null|                    null|  null|       null|           null|  null|en:france|     en:france|      France|                null|              null|        null|  null|       null|     null|        null|               0|         null|       null|                null|                null|                null|                       null|                     null|                          null|                                   null|                                 null|                                      null|              null|              null|                null|         null|en:to-be-complete...|en:to-be-complete...|To be completed,N...|                null|                null|     null|           null|                 null|                       null|               null|                     null|         88|                null|       0|                 0|              null|              null|               null|             null|             null|               null|               null|              null|                null|              null|                 null|              null|               null|               null|                    null|                    null|            null|                      null|                       null|                      null|            null|               null|                  null|                      null|                             null|            null|            null|              null|              null|           null|             null|               null|          null|            null|               4.8|        0.4|         null|         null|          null|         null|         null|               null|       null|        null|      null|          0.2|       null|               null|            null|     2.04| 0.803149606299213|        null|          null|              null|          null|          null|          null|          null|           null|           null|           null|           null|           null|        null|            null|       null|                 null|       null|            null|          null|         null|        null|           null|     null|          null|     null|       null|          null|         null|         null|         null|           null|       null|         null|        null|   null|                       null|                                null|                            null|      null|           null|                 null|                   null|                   null|               null|               null|        null|              null|            null|         null|          null|\n",
      "|0000000000291|http://world-en.o...|             kiliweb|1534239669|2018-08-14T09:41:09Z|     1534239732|  2018-08-14T09:42:12Z|           Mendiants|        null|    null|               null|               null|                null|                null|                null|                null|                null|   null|        null|                null|                     null|  null|       null|     null|     null|          null|                    null|  null|       null|           null|  null|en:france|     en:france|      France|                null|              null|        null|  null|       null|     null|        null|               0|         null|       null|                null|                null|                null|                       null|                     null|                          null|                                   null|                                 null|                                      null|              null|              null|                null|         null|en:to-be-complete...|en:to-be-complete...|To be completed,N...|                null|                null|     null|           null|                 null|                       null|               null|                     null|       null|                null|    null|              null|              null|              null|               null|             null|             null|               null|               null|              null|                null|              null|                 null|              null|               null|               null|                    null|                    null|            null|                      null|                       null|                      null|            null|               null|                  null|                      null|                             null|            null|            null|              null|              null|           null|             null|               null|          null|            null|              null|       null|         null|         null|          null|         null|         null|               null|       null|        null|      null|         null|       null|               null|            null|     null|              null|        null|          null|              null|          null|          null|          null|          null|           null|           null|           null|           null|           null|        null|            null|       null|                 null|       null|            null|          null|         null|        null|           null|     null|          null|     null|       null|          null|         null|         null|         null|           null|       null|         null|        null|   null|                       null|                                null|                            null|      null|           null|                 null|                   null|                   null|               null|               null|        null|              null|            null|         null|          null|\n",
      "|0000000000949|http://world-en.o...|             kiliweb|1523440813|2018-04-11T10:00:13Z|     1523440823|  2018-04-11T10:00:23Z|Salade de carotte...|        null|    null|               null|               null|                null|                null|                null|                null|                null|   null|        null|                null|                     null|  null|       null|     null|     null|          null|                    null|  null|       null|           null|  null|en:france|     en:france|      France|                null|              null|        null|  null|       null|     null|        null|               0|         null|       null|                null|                null|                null|                       null|                     null|                          null|                                   null|                                 null|                                      null|              null|              null|                null|         null|en:to-be-complete...|en:to-be-complete...|To be completed,N...|                null|                null|     null|           null|                 null|                       null|               null|                     null|        134|                null|     0.3|               0.1|              null|              null|               null|             null|             null|               null|               null|              null|                null|              null|                 null|              null|               null|               null|                    null|                    null|            null|                      null|                       null|                      null|            null|               null|                  null|                      null|                             null|            null|            null|              null|              null|           null|             null|               null|          null|            null|               5.3|        3.9|         null|         null|          null|         null|         null|               null|       null|        null|      null|          0.9|       null|               null|            null|     0.42| 0.165354330708661|        null|          null|              null|          null|          null|          null|          null|           null|           null|           null|           null|           null|        null|            null|       null|                 null|       null|            null|          null|         null|        null|           null|     null|          null|     null|       null|          null|         null|         null|         null|           null|       null|         null|        null|   null|                       null|                                null|                            null|      null|           null|                 null|                   null|                   null|               null|               null|        null|              null|            null|         null|          null|\n",
      "|0000000000970|http://world-en.o...|             kiliweb|1520506368|2018-03-08T10:52:48Z|     1520506371|  2018-03-08T10:52:51Z|Fromage blanc aux...|        null|    null|               null|               null|                null|                null|                null|                null|                null|   null|        null|                null|                     null|  null|       null|     null|     null|          null|                    null|  null|       null|           null|  null|en:france|     en:france|      France|                null|              null|        null|  null|       null|     null|        null|               0|         null|       null|                null|                null|                null|                       null|                     null|                          null|                                   null|                                 null|                                      null|              null|              null|                null|         null|en:to-be-complete...|en:to-be-complete...|To be completed,N...|                null|                null|     null|           null|                 null|                       null|               null|                     null|        540|                null|     4.9|               3.1|              null|              null|               null|             null|             null|               null|               null|              null|                null|              null|                 null|              null|               null|               null|                    null|                    null|            null|                      null|                       null|                      null|            null|               null|                  null|                      null|                             null|            null|            null|              null|              null|           null|             null|               null|          null|            null|              16.3|       16.3|         null|         null|          null|         null|         null|               null|       null|        null|      null|          4.4|       null|               null|            null|     0.25|0.0984251968503937|        null|          null|              null|          null|          null|          null|          null|           null|           null|           null|           null|           null|        null|            null|       null|                 null|       null|            null|          null|         null|        null|           null|     null|          null|     null|       null|          null|         null|         null|         null|           null|       null|         null|        null|   null|                       null|                                null|                            null|      null|           null|                 null|                   null|                   null|               null|               null|        null|              null|            null|         null|          null|\n",
      "|0000000001001|http://world-en.o...|openfoodfacts-con...|1537766416|2018-09-24T05:20:16Z|     1537766416|  2018-09-24T05:20:16Z|                null|        null|    null|               null|               null|                null|                null|                null|                null|                null|   null|        null|                null|                     null|  null|       null|     null|     null|          null|                    null|  null|       null|           null|  null|    en:FR|     en:france|      France|                null|              null|        null|  null|       null|     null|        null|            null|         null|       null|                null|                null|                null|                       null|                     null|                          null|                                   null|                                 null|                                      null|              null|              null|                null|         null|en:to-be-complete...|en:to-be-complete...|To be completed,N...|                null|                null|     null|           null|                 null|                       null|               null|                     null|       null|                null|    null|              null|              null|              null|               null|             null|             null|               null|               null|              null|                null|              null|                 null|              null|               null|               null|                    null|                    null|            null|                      null|                       null|                      null|            null|               null|                  null|                      null|                             null|            null|            null|              null|              null|           null|             null|               null|          null|            null|              null|       null|         null|         null|          null|         null|         null|               null|       null|        null|      null|         null|       null|               null|            null|     null|              null|        null|          null|              null|          null|          null|          null|          null|           null|           null|           null|           null|           null|        null|            null|       null|                 null|       null|            null|          null|         null|        null|           null|     null|          null|     null|       null|          null|         null|         null|         null|           null|       null|         null|        null|   null|                       null|                                null|                            null|      null|           null|                 null|                   null|                   null|               null|               null|        null|              null|            null|         null|          null|\n",
      "|0000000001007|http://world-en.o...|             kiliweb|1538127563|2018-09-28T09:39:23Z|     1538127565|  2018-09-28T09:39:25Z|            Vainilla|        null|    null|               null|               null|                null|                null|                null|                null|                null|   null|        null|                null|                     null|  null|       null|     null|     null|          null|                    null|  null|       null|           null|  null|en:france|     en:france|      France|                null|              null|        null|  null|       null|     null|        null|               0|         null|       null|                null|                null|                null|                       null|                     null|                          null|                                   null|                                 null|                                      null|              null|              null|                null|         null|en:to-be-complete...|en:to-be-complete...|To be completed,N...|                null|                null|     null|           null|                 null|                       null|               null|                     null|       null|                null|    null|              null|              null|              null|               null|             null|             null|               null|               null|              null|                null|              null|                 null|              null|               null|               null|                    null|                    null|            null|                      null|                       null|                      null|            null|               null|                  null|                      null|                             null|            null|            null|              null|              null|           null|             null|               null|          null|            null|              null|       null|         null|         null|          null|         null|         null|               null|       null|        null|      null|         null|       null|               null|            null|     null|              null|        null|          null|              null|          null|          null|          null|          null|           null|           null|           null|           null|           null|        null|            null|       null|                 null|       null|            null|          null|         null|        null|           null|     null|          null|     null|       null|          null|         null|         null|         null|           null|       null|         null|        null|   null|                       null|                                null|                            null|      null|           null|                 null|                   null|                   null|               null|               null|        null|              null|            null|         null|          null|\n",
      "|0000000001137|http://world-en.o...|             kiliweb|1539781575|2018-10-17T13:06:15Z|     1539781578|  2018-10-17T13:06:18Z|   Baguette parisien|        null|    null|               null|               null|                null|                null|                null|                null|                null|   null|        null|                null|                     null|  null|       null|     null|     null|          null|                    null|  null|       null|           null|  null|en:france|     en:france|      France|                null|              null|        null|  null|       null|     null|        null|               0|         null|       null|                null|                null|                null|                       null|                     null|                          null|                                   null|                                 null|                                      null|              null|              null|                null|         null|en:to-be-complete...|en:to-be-complete...|To be completed,N...|                null|                null|     null|           null|                 null|                       null|               null|                     null|        929|                null|     3.3|               2.1|              null|              null|               null|             null|             null|               null|               null|              null|                null|              null|                 null|              null|               null|               null|                    null|                    null|            null|                      null|                       null|                      null|            null|               null|                  null|                      null|                             null|            null|            null|              null|              null|           null|             null|               null|          null|            null|              38.4|        1.8|         null|         null|          null|         null|         null|               null|       null|        null|      null|         11.7|       null|               null|            null|    0.678| 0.266929133858268|        null|          null|              null|          null|          null|          null|          null|           null|           null|           null|           null|           null|        null|            null|       null|                 null|       null|            null|          null|         null|        null|           null|     null|          null|     null|       null|          null|         null|         null|         null|           null|       null|         null|        null|   null|                       null|                                null|                            null|      null|           null|                 null|                   null|                   null|               null|               null|        null|              null|            null|         null|          null|\n",
      "|0000000001151|http://world-en.o...|             kiliweb|1537883404|2018-09-25T13:50:04Z|     1537883538|  2018-09-25T13:52:18Z|&quot;Baguette Ly...|        null|    null|               null|               null|                null|                null|                null|                null|                null|   null|        null|                null|                     null|  null|       null|     null|     null|          null|                    null|  null|       null|           null|  null|en:france|     en:france|      France|                null|              null|        null|  null|       null|     null|        null|               0|         null|       null|                null|                null|                null|                       null|                     null|                          null|                                   null|                                 null|                                      null|              null|              null|                null|         null|en:to-be-complete...|en:to-be-complete...|To be completed,N...|                null|                null|     null|           null|                 null|                       null|               null|                     null|       1213|                null|     9.4|               4.5|              null|              null|               null|             null|             null|               null|               null|              null|                null|              null|                 null|              null|               null|               null|                    null|                    null|            null|                      null|                       null|                      null|            null|               null|                  null|                      null|                             null|            null|            null|              null|              null|           null|             null|               null|          null|            null|                41|          2|         null|         null|          null|         null|         null|               null|       null|        null|      null|         12.5|       null|               null|            null|      0.9| 0.354330708661417|        null|          null|              null|          null|          null|          null|          null|           null|           null|           null|           null|           null|        null|            null|       null|                 null|       null|            null|          null|         null|        null|           null|     null|          null|     null|       null|          null|         null|         null|         null|           null|       null|         null|        null|   null|                       null|                                null|                            null|      null|           null|                 null|                   null|                   null|               null|               null|        null|              null|            null|         null|          null|\n",
      "|0000000001199|http://world-en.o...|             kiliweb|1517833594|2018-02-05T12:26:34Z|     1540674511|  2018-10-27T21:08:31Z|Solène céréales p...|        null|    null|               null|               null|               CROUS|               crous|                null|                null|                null|   null|        null|                null|                     null|  null|       null|     null|     null|          null|                    null|  null|       null|           null|  null|   France|     en:france|      France|antioxydant : éry...|en:eggs,en:mustard|        null|  null|       null|     null|        null|               0|         null|          5| [ antioxydant ->...|en:e150,en:e160a,...|E150 - Caramel,E1...|                          0|                     null|                          null|                                      0|                                 null|                                      null|              null|              null|             unknown|      unknown|en:to-be-complete...|en:to-be-complete...|To be completed,N...|                null|                null|     null|           null|                 null|                       null|               null|                     null|        916|                null|     5.9|               0.5|              null|              null|               null|             null|             null|               null|               null|              null|                null|              null|                 null|              null|               null|               null|                    null|                    null|            null|                      null|                       null|                      null|            null|               null|                  null|                      null|                             null|            null|            null|              null|              null|           null|             null|               null|          null|            null|              30.3|        1.7|         null|         null|          null|         null|         null|               null|       null|        null|       2.8|          9.7|       null|               null|            null|    0.464| 0.182677165354331|        null|          null|              null|          null|          null|          null|          null|           null|           null|           null|           null|           null|        null|            null|       null|                 null|       null|            null|          null|         null|        null|           null|     null|          null|     null|       null|          null|         null|         null|         null|           null|       null|         null|        null|   null|                       null|                                null|                            null|      null|           null|                 null|                   null|                   null|               null|               null|        null|              null|            null|         null|          null|\n",
      "|0000000001281|http://world-en.o...|             kiliweb|1517830801|2018-02-05T11:40:01Z|     1527070794|  2018-05-23T10:19:54Z|  Tarte noix de coco|        null|    null|barquette,plastique|barquette,plastique|  Crous Resto',Crous|   crous-resto,crous|Tartes à la noix ...|en:pies,en:sweet-...|Pies,Sweet pies,C...|   null|        null|                null|                     null|  null|       null|     null|     null|          null|                    null|  null|       null|           null|  null|en:france|     en:france|      France|                null|              null|        null|  null|       null|     null|        null|               0|         null|       null|                null|                null|                null|                       null|                     null|                          null|                                   null|                                 null|                                      null|              null|                 d|             unknown|      unknown|en:to-be-complete...|en:to-be-complete...|To be completed,N...|             en:pies|                Pies|     null|           null|                 null|                       null|               null|                     null|       1594|                null|      22|              15.5|              null|              null|               null|             null|             null|               null|               null|              null|                null|              null|                 null|              null|               null|               null|                    null|                    null|            null|                      null|                       null|                      null|            null|               null|                  null|                      null|                             null|            null|            null|              null|              null|           null|             null|               null|          null|            null|              27.3|       21.9|         null|         null|          null|         null|         null|               null|       null|        null|       4.4|          4.6|       null|               null|            null|      0.1|0.0393700787401575|        null|          null|              null|          null|          null|          null|          null|           null|           null|           null|           null|           null|        null|            null|       null|                 null|       null|            null|          null|         null|        null|           null|     null|          null|     null|       null|          null|         null|         null|         null|           null|       null|         null|        null|   null|                       null|                                null|                            null|      null|           null|                 null|                     14|                     14|               null|               null|        null|              null|            null|         null|          null|\n",
      "|0000000001311|http://world-en.o...|             kiliweb|1520419800|2018-03-07T10:50:00Z|     1520419813|  2018-03-07T10:50:13Z|Salade de fruits ...|        null|    null|               null|               null|                null|                null|                null|                null|                null|   null|        null|                null|                     null|  null|       null|     null|     null|          null|                    null|  null|       null|           null|  null|en:france|     en:france|      France|                null|              null|        null|  null|       null|     null|        null|               0|         null|       null|                null|                null|                null|                       null|                     null|                          null|                                   null|                                 null|                                      null|              null|              null|                null|         null|en:to-be-complete...|en:to-be-complete...|To be completed,N...|                null|                null|     null|           null|                 null|                       null|               null|                     null|        418|                null|       0|                 0|              null|              null|               null|             null|             null|               null|               null|              null|                null|              null|                 null|              null|               null|               null|                    null|                    null|            null|                      null|                       null|                      null|            null|               null|                  null|                      null|                             null|            null|            null|              null|              null|           null|             null|               null|          null|            null|                24|         23|         null|         null|          null|         null|         null|               null|       null|        null|      null|            0|       null|               null|            null|      3.2|  1.25984251968504|        null|          null|              null|          null|          null|          null|          null|           null|           null|           null|           null|           null|        null|            null|       null|                 null|       null|            null|          null|         null|        null|           null|     null|          null|     null|       null|          null|         null|         null|         null|           null|       null|         null|        null|   null|                       null|                                null|                            null|      null|           null|                 null|                   null|                   null|               null|               null|        null|              null|            null|         null|          null|\n",
      "|0000000001328|http://world-en.o...|             kiliweb|1532982378|2018-07-30T20:26:18Z|     1532982384|  2018-07-30T20:26:24Z|    Chouquettes x 30|        null|    null|               null|               null|                null|                null|                null|                null|                null|   null|        null|                null|                     null|  null|       null|     null|     null|          null|                    null|  null|       null|           null|  null|en:france|     en:france|      France|                null|              null|        null|  null|       null|     null|        null|               0|         null|       null|                null|                null|                null|                       null|                     null|                          null|                                   null|                                 null|                                      null|              null|              null|                null|         null|en:to-be-complete...|en:to-be-complete...|To be completed,N...|                null|                null|     null|           null|                 null|                       null|               null|                     null|        657|                null|      21|                12|              null|              null|               null|             null|             null|               null|               null|              null|                null|              null|                 null|              null|               null|               null|                    null|                    null|            null|                      null|                       null|                      null|            null|               null|                  null|                      null|                             null|            null|            null|              null|              null|           null|             null|               null|          null|            null|                39|         20|         null|         null|          null|         null|         null|               null|       null|        null|      null|          7.8|       null|               null|            null|      1.5| 0.590551181102362|        null|          null|              null|          null|          null|          null|          null|           null|           null|           null|           null|           null|        null|            null|       null|                 null|       null|            null|          null|         null|        null|           null|     null|          null|     null|       null|          null|         null|         null|         null|           null|       null|         null|        null|   null|                       null|                                null|                            null|      null|           null|                 null|                   null|                   null|               null|               null|        null|              null|            null|         null|          null|\n",
      "|0000000001564|http://world-en.o...|             kiliweb|1523443867|2018-04-11T10:51:07Z|     1523443872|  2018-04-11T10:51:12Z| Fromage blanc pêche|        null|    null|               null|               null|                null|                null|                null|                null|                null|   null|        null|                null|                     null|  null|       null|     null|     null|          null|                    null|  null|       null|           null|  null|en:france|     en:france|      France|                null|              null|        null|  null|       null|     null|        null|               0|         null|       null|                null|                null|                null|                       null|                     null|                          null|                                   null|                                 null|                                      null|              null|              null|                null|         null|en:to-be-complete...|en:to-be-complete...|To be completed,N...|                null|                null|     null|           null|                 null|                       null|               null|                     null|        410|                null|     3.3|               3.3|              null|              null|               null|             null|             null|               null|               null|              null|                null|              null|                 null|              null|               null|               null|                    null|                    null|            null|                      null|                       null|                      null|            null|               null|                  null|                      null|                             null|            null|            null|              null|              null|           null|             null|               null|          null|            null|               7.6|        7.5|         null|         null|          null|         null|         null|               null|       null|        null|      null|          4.6|       null|               null|            null|    0.027|0.0106299212598425|        null|          null|              null|          null|          null|          null|          null|           null|           null|           null|           null|           null|        null|            null|       null|                 null|       null|            null|          null|         null|        null|           null|     null|          null|     null|       null|          null|         null|         null|         null|           null|       null|         null|        null|   null|                       null|                                null|                            null|      null|           null|                 null|                   null|                   null|               null|               null|        null|              null|            null|         null|          null|\n",
      "|0000000001663|http://world-en.o...|             kiliweb|1509478049|2017-10-31T19:27:29Z|     1509478053|  2017-10-31T19:27:33Z|Crème dessert cho...|        null|    null|               null|               null|Ferme De La Frémo...|ferme-de-la-fremo...|                null|                null|                null|   null|        null|                null|                     null|  null|       null|     null|     null|          null|                    null|  null|       null|           null|  null|   France|     en:france|      France|Lait entier, sucr...|              null|        null|  null|       null|     null|        null|               0|         null|          1| [ lait-entier ->...|             en:e406|         E406 - Agar|                          0|                     null|                          null|                                      0|                                 null|                                      null|              null|              null|             unknown|      unknown|en:to-be-complete...|en:to-be-complete...|To be completed,N...|                null|                null|     null|           null|                 null|                       null|               null|                     null|          0|                null|       0|                 0|              null|              null|               null|             null|             null|               null|               null|              null|                null|              null|                 null|              null|               null|               null|                    null|                    null|            null|                      null|                       null|                      null|            null|               null|                  null|                      null|                             null|            null|            null|              null|              null|           null|             null|               null|          null|            null|                 0|          0|         null|         null|          null|         null|         null|               null|       null|        null|      null|            0|       null|               null|            null|        0|                 0|        null|          null|              null|          null|          null|          null|          null|           null|           null|           null|           null|           null|        null|            null|       null|                 null|       null|            null|          null|         null|        null|           null|     null|          null|     null|       null|          null|         null|         null|         null|           null|       null|         null|        null|   null|                       null|                                null|                            null|      null|           null|                 null|                   null|                   null|               null|               null|        null|              null|            null|         null|          null|\n",
      "|0000000001670|http://world-en.o...|             kiliweb|1540478379|2018-10-25T14:39:39Z|     1540478386|  2018-10-25T14:39:46Z|Bouillie de sarrasin|        null|    null|               null|               null|                null|                null|                null|                null|                null|   null|        null|                null|                     null|  null|       null|     null|     null|          null|                    null|  null|       null|           null|  null|en:france|     en:france|      France|                null|              null|        null|  null|       null|     null|        null|               0|         null|       null|                null|                null|                null|                       null|                     null|                          null|                                   null|                                 null|                                      null|              null|              null|                null|         null|en:to-be-complete...|en:to-be-complete...|To be completed,N...|                null|                null|     null|           null|                 null|                       null|               null|                     null|       null|                null|    null|              null|              null|              null|               null|             null|             null|               null|               null|              null|                null|              null|                 null|              null|               null|               null|                    null|                    null|            null|                      null|                       null|                      null|            null|               null|                  null|                      null|                             null|            null|            null|              null|              null|           null|             null|               null|          null|            null|              null|       null|         null|         null|          null|         null|         null|               null|       null|        null|      null|         null|       null|               null|            null|     null|              null|        null|          null|              null|          null|          null|          null|          null|           null|           null|           null|           null|           null|        null|            null|       null|                 null|       null|            null|          null|         null|        null|           null|     null|          null|     null|       null|          null|         null|         null|         null|           null|       null|         null|        null|   null|                       null|                                null|                            null|      null|           null|                 null|                   null|                   null|               null|               null|        null|              null|            null|         null|          null|\n",
      "|0000000001885|http://world-en.o...|             kiliweb|1511180337|2017-11-20T12:18:57Z|     1518126491|  2018-02-08T21:48:11Z|    Compote de poire|        null|    null|               null|               null|               Crous|               crous|   Compotes de poire|en:plant-based-fo...|Plant-based foods...|   null|        null|                null|                     null|  null|       null|     null|     null|          null|                    null|  null|       null|           null|  null|   France|     en:france|      France|                null|              null|        null|  null|       null|     null|        null|               0|         null|       null|                null|                null|                null|                       null|                     null|                          null|                                   null|                                 null|                                      null|              null|                 a|Fruits and vegeta...|       Fruits|en:to-be-complete...|en:to-be-complete...|To be completed,N...|en:plant-based-fo...|Plant-based foods...|     null|           null|                 null|                       null|               null|                     null|        657|                null|       0|                 0|              null|              null|               null|             null|             null|               null|               null|              null|                null|              null|                 null|              null|               null|               null|                    null|                    null|            null|                      null|                       null|                      null|            null|               null|                  null|                      null|                             null|            null|            null|              null|              null|           null|             null|               null|          null|            null|                36|         27|         null|         null|          null|         null|         null|               null|       null|        null|       3.6|          0.6|       null|               null|            null|        0|                 0|        null|          null|              null|          null|          null|          null|          null|           null|           null|           null|           null|           null|        null|            null|       null|                 null|       null|            null|          null|         null|        null|           null|     null|          null|     null|       null|          null|         null|         null|         null|           null|       null|         null|        null|   null|                       null|                                null|                            null|      null|           null|                 null|                     -4|                     -4|               null|               null|        null|              null|            null|         null|          null|\n",
      "|0000000002042|http://world-en.o...|             kiliweb|1523528250|2018-04-12T10:17:30Z|     1523528261|  2018-04-12T10:17:41Z|    Paëlla de poulet|        null|    null|               null|               null|                null|                null|                null|                null|                null|   null|        null|                null|                     null|  null|       null|     null|     null|          null|                    null|  null|       null|           null|  null|en:france|     en:france|      France|                null|              null|        null|  null|       null|     null|        null|               0|         null|       null|                null|                null|                null|                       null|                     null|                          null|                                   null|                                 null|                                      null|              null|              null|                null|         null|en:to-be-complete...|en:to-be-complete...|To be completed,N...|                null|                null|     null|           null|                 null|                       null|               null|                     null|        640|                null|     9.1|               2.5|              null|              null|               null|             null|             null|               null|               null|              null|                null|              null|                 null|              null|               null|               null|                    null|                    null|            null|                      null|                       null|                      null|            null|               null|                  null|                      null|                             null|            null|            null|              null|              null|           null|             null|               null|          null|            null|               9.2|        0.9|         null|         null|          null|         null|         null|               null|       null|        null|      null|          8.3|       null|               null|            null|      2.8|  1.10236220472441|        null|          null|              null|          null|          null|          null|          null|           null|           null|           null|           null|           null|        null|            null|       null|                 null|       null|            null|          null|         null|        null|           null|     null|          null|     null|       null|          null|         null|         null|         null|           null|       null|         null|        null|   null|                       null|                                null|                            null|      null|           null|                 null|                   null|                   null|               null|               null|        null|              null|            null|         null|          null|\n",
      "|0000000002103|http://world-en.o...|             kiliweb|1539629524|2018-10-15T18:52:04Z|     1539629527|  2018-10-15T18:52:07Z|Aiguillettes de p...|        null|    null|               null|               null|                null|                null|                null|                null|                null|   null|        null|                null|                     null|  null|       null|     null|     null|          null|                    null|  null|       null|           null|  null|en:france|     en:france|      France|                null|              null|        null|  null|       null|     null|        null|               0|         null|       null|                null|                null|                null|                       null|                     null|                          null|                                   null|                                 null|                                      null|              null|              null|                null|         null|en:to-be-complete...|en:to-be-complete...|To be completed,N...|                null|                null|     null|           null|                 null|                       null|               null|                     null|       null|                null|    null|              null|              null|              null|               null|             null|             null|               null|               null|              null|                null|              null|                 null|              null|               null|               null|                    null|                    null|            null|                      null|                       null|                      null|            null|               null|                  null|                      null|                             null|            null|            null|              null|              null|           null|             null|               null|          null|            null|              null|       null|         null|         null|          null|         null|         null|               null|       null|        null|      null|         null|       null|               null|            null|     null|              null|        null|          null|              null|          null|          null|          null|          null|           null|           null|           null|           null|           null|        null|            null|       null|                 null|       null|            null|          null|         null|        null|           null|     null|          null|     null|       null|          null|         null|         null|         null|           null|       null|         null|        null|   null|                       null|                                null|                            null|      null|           null|                 null|                   null|                   null|               null|               null|        null|              null|            null|         null|          null|\n",
      "+-------------+--------------------+--------------------+----------+--------------------+---------------+----------------------+--------------------+------------+--------+-------------------+-------------------+--------------------+--------------------+--------------------+--------------------+--------------------+-------+------------+--------------------+-------------------------+------+-----------+---------+---------+--------------+------------------------+------+-----------+---------------+------+---------+--------------+------------+--------------------+------------------+------------+------+-----------+---------+------------+----------------+-------------+-----------+--------------------+--------------------+--------------------+---------------------------+-------------------------+------------------------------+---------------------------------------+-------------------------------------+------------------------------------------+------------------+------------------+--------------------+-------------+--------------------+--------------------+--------------------+--------------------+--------------------+---------+---------------+---------------------+---------------------------+-------------------+-------------------------+-----------+--------------------+--------+------------------+------------------+------------------+-------------------+-----------------+-----------------+-------------------+-------------------+------------------+--------------------+------------------+---------------------+------------------+-------------------+-------------------+------------------------+------------------------+----------------+--------------------------+---------------------------+--------------------------+----------------+-------------------+----------------------+--------------------------+---------------------------------+----------------+----------------+------------------+------------------+---------------+-----------------+-------------------+--------------+----------------+------------------+-----------+-------------+-------------+--------------+-------------+-------------+-------------------+-----------+------------+----------+-------------+-----------+-------------------+----------------+---------+------------------+------------+--------------+------------------+--------------+--------------+--------------+--------------+---------------+---------------+---------------+---------------+---------------+------------+----------------+-----------+---------------------+-----------+----------------+--------------+-------------+------------+---------------+---------+--------------+---------+-----------+--------------+-------------+-------------+-------------+---------------+-----------+-------------+------------+-------+---------------------------+------------------------------------+--------------------------------+----------+---------------+---------------------+-----------------------+-----------------------+-------------------+-------------------+------------+------------------+----------------+-------------+--------------+\n",
      "only showing top 20 rows\n",
      "\n"
     ]
    }
   ],
   "source": [
    "data = spark.read.option(\"delimiter\", \"\\t\").option(\"header\", \"true\").csv(\"Project/en.openfoodfacts.org.products.csv\") "
   ]
  },
  {
   "cell_type": "code",
   "execution_count": 17,
   "metadata": {},
   "outputs": [
    {
     "data": {
      "text/plain": [
       "[('code', 'string'),\n",
       " ('url', 'string'),\n",
       " ('creator', 'string'),\n",
       " ('created_t', 'string'),\n",
       " ('created_datetime', 'string'),\n",
       " ('last_modified_t', 'string'),\n",
       " ('last_modified_datetime', 'string'),\n",
       " ('product_name', 'string'),\n",
       " ('generic_name', 'string'),\n",
       " ('quantity', 'string'),\n",
       " ('packaging', 'string'),\n",
       " ('packaging_tags', 'string'),\n",
       " ('brands', 'string'),\n",
       " ('brands_tags', 'string'),\n",
       " ('categories', 'string'),\n",
       " ('categories_tags', 'string'),\n",
       " ('categories_en', 'string'),\n",
       " ('origins', 'string'),\n",
       " ('origins_tags', 'string'),\n",
       " ('manufacturing_places', 'string'),\n",
       " ('manufacturing_places_tags', 'string'),\n",
       " ('labels', 'string'),\n",
       " ('labels_tags', 'string'),\n",
       " ('labels_en', 'string'),\n",
       " ('emb_codes', 'string'),\n",
       " ('emb_codes_tags', 'string'),\n",
       " ('first_packaging_code_geo', 'string'),\n",
       " ('cities', 'string'),\n",
       " ('cities_tags', 'string'),\n",
       " ('purchase_places', 'string'),\n",
       " ('stores', 'string'),\n",
       " ('countries', 'string'),\n",
       " ('countries_tags', 'string'),\n",
       " ('countries_en', 'string'),\n",
       " ('ingredients_text', 'string'),\n",
       " ('allergens', 'string'),\n",
       " ('allergens_en', 'string'),\n",
       " ('traces', 'string'),\n",
       " ('traces_tags', 'string'),\n",
       " ('traces_en', 'string'),\n",
       " ('serving_size', 'string'),\n",
       " ('serving_quantity', 'string'),\n",
       " ('no_nutriments', 'string'),\n",
       " ('additives_n', 'string'),\n",
       " ('additives', 'string'),\n",
       " ('additives_tags', 'string'),\n",
       " ('additives_en', 'string'),\n",
       " ('ingredients_from_palm_oil_n', 'string'),\n",
       " ('ingredients_from_palm_oil', 'string'),\n",
       " ('ingredients_from_palm_oil_tags', 'string'),\n",
       " ('ingredients_that_may_be_from_palm_oil_n', 'string'),\n",
       " ('ingredients_that_may_be_from_palm_oil', 'string'),\n",
       " ('ingredients_that_may_be_from_palm_oil_tags', 'string'),\n",
       " ('nutrition_grade_uk', 'string'),\n",
       " ('nutrition_grade_fr', 'string'),\n",
       " ('pnns_groups_1', 'string'),\n",
       " ('pnns_groups_2', 'string'),\n",
       " ('states', 'string'),\n",
       " ('states_tags', 'string'),\n",
       " ('states_en', 'string'),\n",
       " ('main_category', 'string'),\n",
       " ('main_category_en', 'string'),\n",
       " ('image_url', 'string'),\n",
       " ('image_small_url', 'string'),\n",
       " ('image_ingredients_url', 'string'),\n",
       " ('image_ingredients_small_url', 'string'),\n",
       " ('image_nutrition_url', 'string'),\n",
       " ('image_nutrition_small_url', 'string'),\n",
       " ('energy_100g', 'string'),\n",
       " ('energy-from-fat_100g', 'string'),\n",
       " ('fat_100g', 'string'),\n",
       " ('saturated-fat_100g', 'string'),\n",
       " ('-butyric-acid_100g', 'string'),\n",
       " ('-caproic-acid_100g', 'string'),\n",
       " ('-caprylic-acid_100g', 'string'),\n",
       " ('-capric-acid_100g', 'string'),\n",
       " ('-lauric-acid_100g', 'string'),\n",
       " ('-myristic-acid_100g', 'string'),\n",
       " ('-palmitic-acid_100g', 'string'),\n",
       " ('-stearic-acid_100g', 'string'),\n",
       " ('-arachidic-acid_100g', 'string'),\n",
       " ('-behenic-acid_100g', 'string'),\n",
       " ('-lignoceric-acid_100g', 'string'),\n",
       " ('-cerotic-acid_100g', 'string'),\n",
       " ('-montanic-acid_100g', 'string'),\n",
       " ('-melissic-acid_100g', 'string'),\n",
       " ('monounsaturated-fat_100g', 'string'),\n",
       " ('polyunsaturated-fat_100g', 'string'),\n",
       " ('omega-3-fat_100g', 'string'),\n",
       " ('-alpha-linolenic-acid_100g', 'string'),\n",
       " ('-eicosapentaenoic-acid_100g', 'string'),\n",
       " ('-docosahexaenoic-acid_100g', 'string'),\n",
       " ('omega-6-fat_100g', 'string'),\n",
       " ('-linoleic-acid_100g', 'string'),\n",
       " ('-arachidonic-acid_100g', 'string'),\n",
       " ('-gamma-linolenic-acid_100g', 'string'),\n",
       " ('-dihomo-gamma-linolenic-acid_100g', 'string'),\n",
       " ('omega-9-fat_100g', 'string'),\n",
       " ('-oleic-acid_100g', 'string'),\n",
       " ('-elaidic-acid_100g', 'string'),\n",
       " ('-gondoic-acid_100g', 'string'),\n",
       " ('-mead-acid_100g', 'string'),\n",
       " ('-erucic-acid_100g', 'string'),\n",
       " ('-nervonic-acid_100g', 'string'),\n",
       " ('trans-fat_100g', 'string'),\n",
       " ('cholesterol_100g', 'string'),\n",
       " ('carbohydrates_100g', 'string'),\n",
       " ('sugars_100g', 'string'),\n",
       " ('-sucrose_100g', 'string'),\n",
       " ('-glucose_100g', 'string'),\n",
       " ('-fructose_100g', 'string'),\n",
       " ('-lactose_100g', 'string'),\n",
       " ('-maltose_100g', 'string'),\n",
       " ('-maltodextrins_100g', 'string'),\n",
       " ('starch_100g', 'string'),\n",
       " ('polyols_100g', 'string'),\n",
       " ('fiber_100g', 'string'),\n",
       " ('proteins_100g', 'string'),\n",
       " ('casein_100g', 'string'),\n",
       " ('serum-proteins_100g', 'string'),\n",
       " ('nucleotides_100g', 'string'),\n",
       " ('salt_100g', 'string'),\n",
       " ('sodium_100g', 'string'),\n",
       " ('alcohol_100g', 'string'),\n",
       " ('vitamin-a_100g', 'string'),\n",
       " ('beta-carotene_100g', 'string'),\n",
       " ('vitamin-d_100g', 'string'),\n",
       " ('vitamin-e_100g', 'string'),\n",
       " ('vitamin-k_100g', 'string'),\n",
       " ('vitamin-c_100g', 'string'),\n",
       " ('vitamin-b1_100g', 'string'),\n",
       " ('vitamin-b2_100g', 'string'),\n",
       " ('vitamin-pp_100g', 'string'),\n",
       " ('vitamin-b6_100g', 'string'),\n",
       " ('vitamin-b9_100g', 'string'),\n",
       " ('folates_100g', 'string'),\n",
       " ('vitamin-b12_100g', 'string'),\n",
       " ('biotin_100g', 'string'),\n",
       " ('pantothenic-acid_100g', 'string'),\n",
       " ('silica_100g', 'string'),\n",
       " ('bicarbonate_100g', 'string'),\n",
       " ('potassium_100g', 'string'),\n",
       " ('chloride_100g', 'string'),\n",
       " ('calcium_100g', 'string'),\n",
       " ('phosphorus_100g', 'string'),\n",
       " ('iron_100g', 'string'),\n",
       " ('magnesium_100g', 'string'),\n",
       " ('zinc_100g', 'string'),\n",
       " ('copper_100g', 'string'),\n",
       " ('manganese_100g', 'string'),\n",
       " ('fluoride_100g', 'string'),\n",
       " ('selenium_100g', 'string'),\n",
       " ('chromium_100g', 'string'),\n",
       " ('molybdenum_100g', 'string'),\n",
       " ('iodine_100g', 'string'),\n",
       " ('caffeine_100g', 'string'),\n",
       " ('taurine_100g', 'string'),\n",
       " ('ph_100g', 'string'),\n",
       " ('fruits-vegetables-nuts_100g', 'string'),\n",
       " ('fruits-vegetables-nuts-estimate_100g', 'string'),\n",
       " ('collagen-meat-protein-ratio_100g', 'string'),\n",
       " ('cocoa_100g', 'string'),\n",
       " ('chlorophyl_100g', 'string'),\n",
       " ('carbon-footprint_100g', 'string'),\n",
       " ('nutrition-score-fr_100g', 'string'),\n",
       " ('nutrition-score-uk_100g', 'string'),\n",
       " ('glycemic-index_100g', 'string'),\n",
       " ('water-hardness_100g', 'string'),\n",
       " ('choline_100g', 'string'),\n",
       " ('phylloquinone_100g', 'string'),\n",
       " ('beta-glucan_100g', 'string'),\n",
       " ('inositol_100g', 'string'),\n",
       " ('carnitine_100g', 'string')]"
      ]
     },
     "execution_count": 17,
     "metadata": {},
     "output_type": "execute_result"
    }
   ],
   "source": [
    "data.dtypes"
   ]
  },
  {
   "cell_type": "code",
   "execution_count": 19,
   "metadata": {},
   "outputs": [
    {
     "data": {
      "text/plain": [
       "684106"
      ]
     },
     "execution_count": 19,
     "metadata": {},
     "output_type": "execute_result"
    }
   ],
   "source": [
    "data.count()"
   ]
  },
  {
   "cell_type": "code",
   "execution_count": 28,
   "metadata": {},
   "outputs": [
    {
     "data": {
      "text/plain": [
       "23748"
      ]
     },
     "execution_count": 28,
     "metadata": {},
     "output_type": "execute_result"
    }
   ],
   "source": [
    "France = data.filter(data[\"countries\"]==\"France\")\n",
    "France.filter(France.origins != \"\").count()"
   ]
  },
  {
   "cell_type": "code",
   "execution_count": 36,
   "metadata": {},
   "outputs": [
    {
     "name": "stdout",
     "output_type": "stream",
     "text": [
      "+--------------------+-----+\n",
      "|             origins|count|\n",
      "+--------------------+-----+\n",
      "|       Côte d'Ivoire|   22|\n",
      "|       Non spécifiée|    8|\n",
      "|Côtes du Rhône,Fr...|    1|\n",
      "|France,Pêcheries ...|    1|\n",
      "|   France ou Espagne|    2|\n",
      "|Vin,Bourgogne,France|    1|\n",
      "|Noix de Saint-Jac...|    1|\n",
      "|     basse Normandie|    1|\n",
      "|      Porc de France|    1|\n",
      "|Languedoc Roussil...|    1|\n",
      "|     France,Bordeaux|    2|\n",
      "|Carpe origine France|    1|\n",
      "| Beaumont-de-Lomagne|    1|\n",
      "|                 Mer|    1|\n",
      "|farine de blé T18...|    1|\n",
      "|           France,35|    1|\n",
      "|      Halluin,France|    1|\n",
      "|Pérou,Coopérative...|    5|\n",
      "|Chine,Privince du...|    1|\n",
      "|La Réunion,Morbih...|    1|\n",
      "+--------------------+-----+\n",
      "only showing top 20 rows\n",
      "\n"
     ]
    }
   ],
   "source": [
    "origins = France.groupBy(\"origins\").count()\n",
    "origins.show()"
   ]
  },
  {
   "cell_type": "code",
   "execution_count": 42,
   "metadata": {},
   "outputs": [
    {
     "name": "stdout",
     "output_type": "stream",
     "text": [
      "+--------------------+------+\n",
      "|             origins| count|\n",
      "+--------------------+------+\n",
      "|                null|152744|\n",
      "|              France|  8938|\n",
      "|    Union Européenne|  1303|\n",
      "|             Espagne|   696|\n",
      "|              Italie|   652|\n",
      "|    Union européenne|   363|\n",
      "|  France,Hors France|   178|\n",
      "|             Norvège|   175|\n",
      "|               Pérou|   171|\n",
      "|               Maroc|   156|\n",
      "|               Chine|   143|\n",
      "|             Turquie|   138|\n",
      "|           Allemagne|   126|\n",
      "|            Belgique|   116|\n",
      "|           Thaïlande|   116|\n",
      "|    Sud-Ouest,France|   115|\n",
      "|France,Union Euro...|   113|\n",
      "|              france|   107|\n",
      "|               Grèce|   105|\n",
      "|     France,Bretagne|    83|\n",
      "+--------------------+------+\n",
      "only showing top 20 rows\n",
      "\n"
     ]
    }
   ],
   "source": [
    "origins.sort(origins[\"count\"].desc()).show()"
   ]
  },
  {
   "cell_type": "code",
   "execution_count": 49,
   "metadata": {},
   "outputs": [
    {
     "data": {
      "text/plain": [
       "37083"
      ]
     },
     "execution_count": 49,
     "metadata": {},
     "output_type": "execute_result"
    }
   ],
   "source": [
    "MP = France.filter(France.manufacturing_places != \"\")\n",
    "MP.count()"
   ]
  },
  {
   "cell_type": "code",
   "execution_count": 50,
   "metadata": {},
   "outputs": [
    {
     "data": {
      "text/plain": [
       "22806"
      ]
     },
     "execution_count": 50,
     "metadata": {},
     "output_type": "execute_result"
    }
   ],
   "source": [
    "FP = France.filter(France.first_packaging_code_geo != \"\")\n",
    "FP.count()"
   ]
  },
  {
   "cell_type": "code",
   "execution_count": 51,
   "metadata": {},
   "outputs": [
    {
     "data": {
      "text/plain": [
       "56475"
      ]
     },
     "execution_count": 51,
     "metadata": {},
     "output_type": "execute_result"
    }
   ],
   "source": [
    "PP = France.filter(France.purchase_places != \"\")\n",
    "PP.count()"
   ]
  },
  {
   "cell_type": "code",
   "execution_count": 67,
   "metadata": {},
   "outputs": [],
   "source": [
    "O = France.filter(France.origins != \"\")"
   ]
  },
  {
   "cell_type": "code",
   "execution_count": 68,
   "metadata": {
    "scrolled": false
   },
   "outputs": [
    {
     "data": {
      "text/plain": [
       "5633"
      ]
     },
     "execution_count": 68,
     "metadata": {},
     "output_type": "execute_result"
    }
   ],
   "source": [
    "join = MP.join(FP, [\"code\"], \"inner\").join(PP, [\"code\"], \"inner\").join(O,[\"code\"], \"inner\")\n",
    "#join.select(\"code\", \"manufacturing_place\", \"first_packaging_code_geo\", \"purchase_places\").show()\n",
    "join.count()"
   ]
  },
  {
   "cell_type": "code",
   "execution_count": 72,
   "metadata": {},
   "outputs": [
    {
     "ename": "AnalysisException",
     "evalue": "\"Reference 'url' is ambiguous, could be: url, url, url, url.;\"",
     "output_type": "error",
     "traceback": [
      "\u001b[0;31m---------------------------------------------------------------------------\u001b[0m",
      "\u001b[0;31mPy4JJavaError\u001b[0m                             Traceback (most recent call last)",
      "\u001b[0;32m/opt/spark/spark-2.3.2-bin-hadoop2.7/python/pyspark/sql/utils.py\u001b[0m in \u001b[0;36mdeco\u001b[0;34m(*a, **kw)\u001b[0m\n\u001b[1;32m     62\u001b[0m         \u001b[0;32mtry\u001b[0m\u001b[0;34m:\u001b[0m\u001b[0;34m\u001b[0m\u001b[0m\n\u001b[0;32m---> 63\u001b[0;31m             \u001b[0;32mreturn\u001b[0m \u001b[0mf\u001b[0m\u001b[0;34m(\u001b[0m\u001b[0;34m*\u001b[0m\u001b[0ma\u001b[0m\u001b[0;34m,\u001b[0m \u001b[0;34m**\u001b[0m\u001b[0mkw\u001b[0m\u001b[0;34m)\u001b[0m\u001b[0;34m\u001b[0m\u001b[0m\n\u001b[0m\u001b[1;32m     64\u001b[0m         \u001b[0;32mexcept\u001b[0m \u001b[0mpy4j\u001b[0m\u001b[0;34m.\u001b[0m\u001b[0mprotocol\u001b[0m\u001b[0;34m.\u001b[0m\u001b[0mPy4JJavaError\u001b[0m \u001b[0;32mas\u001b[0m \u001b[0me\u001b[0m\u001b[0;34m:\u001b[0m\u001b[0;34m\u001b[0m\u001b[0m\n",
      "\u001b[0;32m/opt/spark/spark-2.3.2-bin-hadoop2.7/python/lib/py4j-0.10.7-src.zip/py4j/protocol.py\u001b[0m in \u001b[0;36mget_return_value\u001b[0;34m(answer, gateway_client, target_id, name)\u001b[0m\n\u001b[1;32m    327\u001b[0m                     \u001b[0;34m\"An error occurred while calling {0}{1}{2}.\\n\"\u001b[0m\u001b[0;34m.\u001b[0m\u001b[0;34m\u001b[0m\u001b[0m\n\u001b[0;32m--> 328\u001b[0;31m                     format(target_id, \".\", name), value)\n\u001b[0m\u001b[1;32m    329\u001b[0m             \u001b[0;32melse\u001b[0m\u001b[0;34m:\u001b[0m\u001b[0;34m\u001b[0m\u001b[0m\n",
      "\u001b[0;31mPy4JJavaError\u001b[0m: An error occurred while calling o618.select.\n: org.apache.spark.sql.AnalysisException: Reference 'url' is ambiguous, could be: url, url, url, url.;\n\tat org.apache.spark.sql.catalyst.plans.logical.LogicalPlan.resolve(LogicalPlan.scala:213)\n\tat org.apache.spark.sql.catalyst.plans.logical.LogicalPlan.resolveChildren(LogicalPlan.scala:97)\n\tat org.apache.spark.sql.catalyst.analysis.Analyzer$ResolveReferences$$anonfun$37.apply(Analyzer.scala:826)\n\tat org.apache.spark.sql.catalyst.analysis.Analyzer$ResolveReferences$$anonfun$37.apply(Analyzer.scala:828)\n\tat org.apache.spark.sql.catalyst.analysis.package$.withPosition(package.scala:53)\n\tat org.apache.spark.sql.catalyst.analysis.Analyzer$ResolveReferences$.org$apache$spark$sql$catalyst$analysis$Analyzer$ResolveReferences$$resolve(Analyzer.scala:825)\n\tat org.apache.spark.sql.catalyst.analysis.Analyzer$ResolveReferences$$anonfun$org$apache$spark$sql$catalyst$analysis$Analyzer$ResolveReferences$$resolve$2.apply(Analyzer.scala:834)\n\tat org.apache.spark.sql.catalyst.analysis.Analyzer$ResolveReferences$$anonfun$org$apache$spark$sql$catalyst$analysis$Analyzer$ResolveReferences$$resolve$2.apply(Analyzer.scala:834)\n\tat org.apache.spark.sql.catalyst.trees.TreeNode$$anonfun$4.apply(TreeNode.scala:306)\n\tat org.apache.spark.sql.catalyst.trees.TreeNode.mapProductIterator(TreeNode.scala:187)\n\tat org.apache.spark.sql.catalyst.trees.TreeNode.mapChildren(TreeNode.scala:304)\n\tat org.apache.spark.sql.catalyst.analysis.Analyzer$ResolveReferences$.org$apache$spark$sql$catalyst$analysis$Analyzer$ResolveReferences$$resolve(Analyzer.scala:834)\n\tat org.apache.spark.sql.catalyst.analysis.Analyzer$ResolveReferences$$anonfun$apply$9$$anonfun$applyOrElse$36.apply(Analyzer.scala:895)\n\tat org.apache.spark.sql.catalyst.analysis.Analyzer$ResolveReferences$$anonfun$apply$9$$anonfun$applyOrElse$36.apply(Analyzer.scala:895)\n\tat org.apache.spark.sql.catalyst.plans.QueryPlan$$anonfun$1.apply(QueryPlan.scala:107)\n\tat org.apache.spark.sql.catalyst.plans.QueryPlan$$anonfun$1.apply(QueryPlan.scala:107)\n\tat org.apache.spark.sql.catalyst.trees.CurrentOrigin$.withOrigin(TreeNode.scala:70)\n\tat org.apache.spark.sql.catalyst.plans.QueryPlan.transformExpression$1(QueryPlan.scala:106)\n\tat org.apache.spark.sql.catalyst.plans.QueryPlan.org$apache$spark$sql$catalyst$plans$QueryPlan$$recursiveTransform$1(QueryPlan.scala:118)\n\tat org.apache.spark.sql.catalyst.plans.QueryPlan$$anonfun$org$apache$spark$sql$catalyst$plans$QueryPlan$$recursiveTransform$1$1.apply(QueryPlan.scala:122)\n\tat scala.collection.TraversableLike$$anonfun$map$1.apply(TraversableLike.scala:234)\n\tat scala.collection.TraversableLike$$anonfun$map$1.apply(TraversableLike.scala:234)\n\tat scala.collection.mutable.ResizableArray$class.foreach(ResizableArray.scala:59)\n\tat scala.collection.mutable.ArrayBuffer.foreach(ArrayBuffer.scala:48)\n\tat scala.collection.TraversableLike$class.map(TraversableLike.scala:234)\n\tat scala.collection.AbstractTraversable.map(Traversable.scala:104)\n\tat org.apache.spark.sql.catalyst.plans.QueryPlan.org$apache$spark$sql$catalyst$plans$QueryPlan$$recursiveTransform$1(QueryPlan.scala:122)\n\tat org.apache.spark.sql.catalyst.plans.QueryPlan$$anonfun$2.apply(QueryPlan.scala:127)\n\tat org.apache.spark.sql.catalyst.trees.TreeNode.mapProductIterator(TreeNode.scala:187)\n\tat org.apache.spark.sql.catalyst.plans.QueryPlan.mapExpressions(QueryPlan.scala:127)\n\tat org.apache.spark.sql.catalyst.analysis.Analyzer$ResolveReferences$$anonfun$apply$9.applyOrElse(Analyzer.scala:895)\n\tat org.apache.spark.sql.catalyst.analysis.Analyzer$ResolveReferences$$anonfun$apply$9.applyOrElse(Analyzer.scala:837)\n\tat org.apache.spark.sql.catalyst.trees.TreeNode$$anonfun$transformUp$1.apply(TreeNode.scala:289)\n\tat org.apache.spark.sql.catalyst.trees.TreeNode$$anonfun$transformUp$1.apply(TreeNode.scala:289)\n\tat org.apache.spark.sql.catalyst.trees.CurrentOrigin$.withOrigin(TreeNode.scala:70)\n\tat org.apache.spark.sql.catalyst.trees.TreeNode.transformUp(TreeNode.scala:288)\n\tat org.apache.spark.sql.catalyst.analysis.Analyzer$ResolveReferences$.apply(Analyzer.scala:837)\n\tat org.apache.spark.sql.catalyst.analysis.Analyzer$ResolveReferences$.apply(Analyzer.scala:690)\n\tat org.apache.spark.sql.catalyst.rules.RuleExecutor$$anonfun$execute$1$$anonfun$apply$1.apply(RuleExecutor.scala:87)\n\tat org.apache.spark.sql.catalyst.rules.RuleExecutor$$anonfun$execute$1$$anonfun$apply$1.apply(RuleExecutor.scala:84)\n\tat scala.collection.LinearSeqOptimized$class.foldLeft(LinearSeqOptimized.scala:124)\n\tat scala.collection.immutable.List.foldLeft(List.scala:84)\n\tat org.apache.spark.sql.catalyst.rules.RuleExecutor$$anonfun$execute$1.apply(RuleExecutor.scala:84)\n\tat org.apache.spark.sql.catalyst.rules.RuleExecutor$$anonfun$execute$1.apply(RuleExecutor.scala:76)\n\tat scala.collection.immutable.List.foreach(List.scala:381)\n\tat org.apache.spark.sql.catalyst.rules.RuleExecutor.execute(RuleExecutor.scala:76)\n\tat org.apache.spark.sql.catalyst.analysis.Analyzer.org$apache$spark$sql$catalyst$analysis$Analyzer$$executeSameContext(Analyzer.scala:124)\n\tat org.apache.spark.sql.catalyst.analysis.Analyzer.execute(Analyzer.scala:118)\n\tat org.apache.spark.sql.catalyst.analysis.Analyzer.executeAndCheck(Analyzer.scala:103)\n\tat org.apache.spark.sql.execution.QueryExecution.analyzed$lzycompute(QueryExecution.scala:57)\n\tat org.apache.spark.sql.execution.QueryExecution.analyzed(QueryExecution.scala:55)\n\tat org.apache.spark.sql.execution.QueryExecution.assertAnalyzed(QueryExecution.scala:47)\n\tat org.apache.spark.sql.Dataset$.ofRows(Dataset.scala:74)\n\tat org.apache.spark.sql.Dataset.org$apache$spark$sql$Dataset$$withPlan(Dataset.scala:3301)\n\tat org.apache.spark.sql.Dataset.select(Dataset.scala:1312)\n\tat sun.reflect.NativeMethodAccessorImpl.invoke0(Native Method)\n\tat sun.reflect.NativeMethodAccessorImpl.invoke(NativeMethodAccessorImpl.java:62)\n\tat sun.reflect.DelegatingMethodAccessorImpl.invoke(DelegatingMethodAccessorImpl.java:43)\n\tat java.lang.reflect.Method.invoke(Method.java:498)\n\tat py4j.reflection.MethodInvoker.invoke(MethodInvoker.java:244)\n\tat py4j.reflection.ReflectionEngine.invoke(ReflectionEngine.java:357)\n\tat py4j.Gateway.invoke(Gateway.java:282)\n\tat py4j.commands.AbstractCommand.invokeMethod(AbstractCommand.java:132)\n\tat py4j.commands.CallCommand.execute(CallCommand.java:79)\n\tat py4j.GatewayConnection.run(GatewayConnection.java:238)\n\tat java.lang.Thread.run(Thread.java:748)\n",
      "\nDuring handling of the above exception, another exception occurred:\n",
      "\u001b[0;31mAnalysisException\u001b[0m                         Traceback (most recent call last)",
      "\u001b[0;32m<ipython-input-72-3ea0c565108e>\u001b[0m in \u001b[0;36m<module>\u001b[0;34m\u001b[0m\n\u001b[0;32m----> 1\u001b[0;31m \u001b[0mjoin\u001b[0m\u001b[0;34m.\u001b[0m\u001b[0mselect\u001b[0m\u001b[0;34m(\u001b[0m\u001b[0;34m\"url\"\u001b[0m\u001b[0;34m)\u001b[0m\u001b[0;34m.\u001b[0m\u001b[0mshow\u001b[0m\u001b[0;34m(\u001b[0m\u001b[0;34m)\u001b[0m\u001b[0;34m\u001b[0m\u001b[0m\n\u001b[0m",
      "\u001b[0;32m/opt/spark/spark-2.3.2-bin-hadoop2.7/python/pyspark/sql/dataframe.py\u001b[0m in \u001b[0;36mselect\u001b[0;34m(self, *cols)\u001b[0m\n\u001b[1;32m   1200\u001b[0m         \u001b[0;34m[\u001b[0m\u001b[0mRow\u001b[0m\u001b[0;34m(\u001b[0m\u001b[0mname\u001b[0m\u001b[0;34m=\u001b[0m\u001b[0;34mu'Alice'\u001b[0m\u001b[0;34m,\u001b[0m \u001b[0mage\u001b[0m\u001b[0;34m=\u001b[0m\u001b[0;36m12\u001b[0m\u001b[0;34m)\u001b[0m\u001b[0;34m,\u001b[0m \u001b[0mRow\u001b[0m\u001b[0;34m(\u001b[0m\u001b[0mname\u001b[0m\u001b[0;34m=\u001b[0m\u001b[0;34mu'Bob'\u001b[0m\u001b[0;34m,\u001b[0m \u001b[0mage\u001b[0m\u001b[0;34m=\u001b[0m\u001b[0;36m15\u001b[0m\u001b[0;34m)\u001b[0m\u001b[0;34m]\u001b[0m\u001b[0;34m\u001b[0m\u001b[0m\n\u001b[1;32m   1201\u001b[0m         \"\"\"\n\u001b[0;32m-> 1202\u001b[0;31m         \u001b[0mjdf\u001b[0m \u001b[0;34m=\u001b[0m \u001b[0mself\u001b[0m\u001b[0;34m.\u001b[0m\u001b[0m_jdf\u001b[0m\u001b[0;34m.\u001b[0m\u001b[0mselect\u001b[0m\u001b[0;34m(\u001b[0m\u001b[0mself\u001b[0m\u001b[0;34m.\u001b[0m\u001b[0m_jcols\u001b[0m\u001b[0;34m(\u001b[0m\u001b[0;34m*\u001b[0m\u001b[0mcols\u001b[0m\u001b[0;34m)\u001b[0m\u001b[0;34m)\u001b[0m\u001b[0;34m\u001b[0m\u001b[0m\n\u001b[0m\u001b[1;32m   1203\u001b[0m         \u001b[0;32mreturn\u001b[0m \u001b[0mDataFrame\u001b[0m\u001b[0;34m(\u001b[0m\u001b[0mjdf\u001b[0m\u001b[0;34m,\u001b[0m \u001b[0mself\u001b[0m\u001b[0;34m.\u001b[0m\u001b[0msql_ctx\u001b[0m\u001b[0;34m)\u001b[0m\u001b[0;34m\u001b[0m\u001b[0m\n\u001b[1;32m   1204\u001b[0m \u001b[0;34m\u001b[0m\u001b[0m\n",
      "\u001b[0;32m/opt/spark/spark-2.3.2-bin-hadoop2.7/python/lib/py4j-0.10.7-src.zip/py4j/java_gateway.py\u001b[0m in \u001b[0;36m__call__\u001b[0;34m(self, *args)\u001b[0m\n\u001b[1;32m   1255\u001b[0m         \u001b[0manswer\u001b[0m \u001b[0;34m=\u001b[0m \u001b[0mself\u001b[0m\u001b[0;34m.\u001b[0m\u001b[0mgateway_client\u001b[0m\u001b[0;34m.\u001b[0m\u001b[0msend_command\u001b[0m\u001b[0;34m(\u001b[0m\u001b[0mcommand\u001b[0m\u001b[0;34m)\u001b[0m\u001b[0;34m\u001b[0m\u001b[0m\n\u001b[1;32m   1256\u001b[0m         return_value = get_return_value(\n\u001b[0;32m-> 1257\u001b[0;31m             answer, self.gateway_client, self.target_id, self.name)\n\u001b[0m\u001b[1;32m   1258\u001b[0m \u001b[0;34m\u001b[0m\u001b[0m\n\u001b[1;32m   1259\u001b[0m         \u001b[0;32mfor\u001b[0m \u001b[0mtemp_arg\u001b[0m \u001b[0;32min\u001b[0m \u001b[0mtemp_args\u001b[0m\u001b[0;34m:\u001b[0m\u001b[0;34m\u001b[0m\u001b[0m\n",
      "\u001b[0;32m/opt/spark/spark-2.3.2-bin-hadoop2.7/python/pyspark/sql/utils.py\u001b[0m in \u001b[0;36mdeco\u001b[0;34m(*a, **kw)\u001b[0m\n\u001b[1;32m     67\u001b[0m                                              e.java_exception.getStackTrace()))\n\u001b[1;32m     68\u001b[0m             \u001b[0;32mif\u001b[0m \u001b[0ms\u001b[0m\u001b[0;34m.\u001b[0m\u001b[0mstartswith\u001b[0m\u001b[0;34m(\u001b[0m\u001b[0;34m'org.apache.spark.sql.AnalysisException: '\u001b[0m\u001b[0;34m)\u001b[0m\u001b[0;34m:\u001b[0m\u001b[0;34m\u001b[0m\u001b[0m\n\u001b[0;32m---> 69\u001b[0;31m                 \u001b[0;32mraise\u001b[0m \u001b[0mAnalysisException\u001b[0m\u001b[0;34m(\u001b[0m\u001b[0ms\u001b[0m\u001b[0;34m.\u001b[0m\u001b[0msplit\u001b[0m\u001b[0;34m(\u001b[0m\u001b[0;34m': '\u001b[0m\u001b[0;34m,\u001b[0m \u001b[0;36m1\u001b[0m\u001b[0;34m)\u001b[0m\u001b[0;34m[\u001b[0m\u001b[0;36m1\u001b[0m\u001b[0;34m]\u001b[0m\u001b[0;34m,\u001b[0m \u001b[0mstackTrace\u001b[0m\u001b[0;34m)\u001b[0m\u001b[0;34m\u001b[0m\u001b[0m\n\u001b[0m\u001b[1;32m     70\u001b[0m             \u001b[0;32mif\u001b[0m \u001b[0ms\u001b[0m\u001b[0;34m.\u001b[0m\u001b[0mstartswith\u001b[0m\u001b[0;34m(\u001b[0m\u001b[0;34m'org.apache.spark.sql.catalyst.analysis'\u001b[0m\u001b[0;34m)\u001b[0m\u001b[0;34m:\u001b[0m\u001b[0;34m\u001b[0m\u001b[0m\n\u001b[1;32m     71\u001b[0m                 \u001b[0;32mraise\u001b[0m \u001b[0mAnalysisException\u001b[0m\u001b[0;34m(\u001b[0m\u001b[0ms\u001b[0m\u001b[0;34m.\u001b[0m\u001b[0msplit\u001b[0m\u001b[0;34m(\u001b[0m\u001b[0;34m': '\u001b[0m\u001b[0;34m,\u001b[0m \u001b[0;36m1\u001b[0m\u001b[0;34m)\u001b[0m\u001b[0;34m[\u001b[0m\u001b[0;36m1\u001b[0m\u001b[0;34m]\u001b[0m\u001b[0;34m,\u001b[0m \u001b[0mstackTrace\u001b[0m\u001b[0;34m)\u001b[0m\u001b[0;34m\u001b[0m\u001b[0m\n",
      "\u001b[0;31mAnalysisException\u001b[0m: \"Reference 'url' is ambiguous, could be: url, url, url, url.;\""
     ]
    }
   ],
   "source": [
    "join.select(\"url\").show()"
   ]
  },
  {
   "cell_type": "code",
   "execution_count": 66,
   "metadata": {},
   "outputs": [
    {
     "ename": "KeyboardInterrupt",
     "evalue": "",
     "output_type": "error",
     "traceback": [
      "\u001b[0;31m---------------------------------------------------------------------------\u001b[0m",
      "\u001b[0;31mKeyboardInterrupt\u001b[0m                         Traceback (most recent call last)",
      "\u001b[0;32m<ipython-input-66-f3f5654751fb>\u001b[0m in \u001b[0;36m<module>\u001b[0;34m\u001b[0m\n\u001b[0;32m----> 1\u001b[0;31m \u001b[0mjoin\u001b[0m\u001b[0;34m.\u001b[0m\u001b[0mshow\u001b[0m\u001b[0;34m(\u001b[0m\u001b[0;34m)\u001b[0m\u001b[0;34m\u001b[0m\u001b[0m\n\u001b[0m",
      "\u001b[0;32m/opt/spark/spark-2.3.2-bin-hadoop2.7/python/pyspark/sql/dataframe.py\u001b[0m in \u001b[0;36mshow\u001b[0;34m(self, n, truncate, vertical)\u001b[0m\n\u001b[1;32m    348\u001b[0m         \"\"\"\n\u001b[1;32m    349\u001b[0m         \u001b[0;32mif\u001b[0m \u001b[0misinstance\u001b[0m\u001b[0;34m(\u001b[0m\u001b[0mtruncate\u001b[0m\u001b[0;34m,\u001b[0m \u001b[0mbool\u001b[0m\u001b[0;34m)\u001b[0m \u001b[0;32mand\u001b[0m \u001b[0mtruncate\u001b[0m\u001b[0;34m:\u001b[0m\u001b[0;34m\u001b[0m\u001b[0m\n\u001b[0;32m--> 350\u001b[0;31m             \u001b[0mprint\u001b[0m\u001b[0;34m(\u001b[0m\u001b[0mself\u001b[0m\u001b[0;34m.\u001b[0m\u001b[0m_jdf\u001b[0m\u001b[0;34m.\u001b[0m\u001b[0mshowString\u001b[0m\u001b[0;34m(\u001b[0m\u001b[0mn\u001b[0m\u001b[0;34m,\u001b[0m \u001b[0;36m20\u001b[0m\u001b[0;34m,\u001b[0m \u001b[0mvertical\u001b[0m\u001b[0;34m)\u001b[0m\u001b[0;34m)\u001b[0m\u001b[0;34m\u001b[0m\u001b[0m\n\u001b[0m\u001b[1;32m    351\u001b[0m         \u001b[0;32melse\u001b[0m\u001b[0;34m:\u001b[0m\u001b[0;34m\u001b[0m\u001b[0m\n\u001b[1;32m    352\u001b[0m             \u001b[0mprint\u001b[0m\u001b[0;34m(\u001b[0m\u001b[0mself\u001b[0m\u001b[0;34m.\u001b[0m\u001b[0m_jdf\u001b[0m\u001b[0;34m.\u001b[0m\u001b[0mshowString\u001b[0m\u001b[0;34m(\u001b[0m\u001b[0mn\u001b[0m\u001b[0;34m,\u001b[0m \u001b[0mint\u001b[0m\u001b[0;34m(\u001b[0m\u001b[0mtruncate\u001b[0m\u001b[0;34m)\u001b[0m\u001b[0;34m,\u001b[0m \u001b[0mvertical\u001b[0m\u001b[0;34m)\u001b[0m\u001b[0;34m)\u001b[0m\u001b[0;34m\u001b[0m\u001b[0m\n",
      "\u001b[0;32m/opt/spark/spark-2.3.2-bin-hadoop2.7/python/lib/py4j-0.10.7-src.zip/py4j/java_gateway.py\u001b[0m in \u001b[0;36m__call__\u001b[0;34m(self, *args)\u001b[0m\n\u001b[1;32m   1253\u001b[0m             \u001b[0mproto\u001b[0m\u001b[0;34m.\u001b[0m\u001b[0mEND_COMMAND_PART\u001b[0m\u001b[0;34m\u001b[0m\u001b[0m\n\u001b[1;32m   1254\u001b[0m \u001b[0;34m\u001b[0m\u001b[0m\n\u001b[0;32m-> 1255\u001b[0;31m         \u001b[0manswer\u001b[0m \u001b[0;34m=\u001b[0m \u001b[0mself\u001b[0m\u001b[0;34m.\u001b[0m\u001b[0mgateway_client\u001b[0m\u001b[0;34m.\u001b[0m\u001b[0msend_command\u001b[0m\u001b[0;34m(\u001b[0m\u001b[0mcommand\u001b[0m\u001b[0;34m)\u001b[0m\u001b[0;34m\u001b[0m\u001b[0m\n\u001b[0m\u001b[1;32m   1256\u001b[0m         return_value = get_return_value(\n\u001b[1;32m   1257\u001b[0m             answer, self.gateway_client, self.target_id, self.name)\n",
      "\u001b[0;32m/opt/spark/spark-2.3.2-bin-hadoop2.7/python/lib/py4j-0.10.7-src.zip/py4j/java_gateway.py\u001b[0m in \u001b[0;36msend_command\u001b[0;34m(self, command, retry, binary)\u001b[0m\n\u001b[1;32m    983\u001b[0m         \u001b[0mconnection\u001b[0m \u001b[0;34m=\u001b[0m \u001b[0mself\u001b[0m\u001b[0;34m.\u001b[0m\u001b[0m_get_connection\u001b[0m\u001b[0;34m(\u001b[0m\u001b[0;34m)\u001b[0m\u001b[0;34m\u001b[0m\u001b[0m\n\u001b[1;32m    984\u001b[0m         \u001b[0;32mtry\u001b[0m\u001b[0;34m:\u001b[0m\u001b[0;34m\u001b[0m\u001b[0m\n\u001b[0;32m--> 985\u001b[0;31m             \u001b[0mresponse\u001b[0m \u001b[0;34m=\u001b[0m \u001b[0mconnection\u001b[0m\u001b[0;34m.\u001b[0m\u001b[0msend_command\u001b[0m\u001b[0;34m(\u001b[0m\u001b[0mcommand\u001b[0m\u001b[0;34m)\u001b[0m\u001b[0;34m\u001b[0m\u001b[0m\n\u001b[0m\u001b[1;32m    986\u001b[0m             \u001b[0;32mif\u001b[0m \u001b[0mbinary\u001b[0m\u001b[0;34m:\u001b[0m\u001b[0;34m\u001b[0m\u001b[0m\n\u001b[1;32m    987\u001b[0m                 \u001b[0;32mreturn\u001b[0m \u001b[0mresponse\u001b[0m\u001b[0;34m,\u001b[0m \u001b[0mself\u001b[0m\u001b[0;34m.\u001b[0m\u001b[0m_create_connection_guard\u001b[0m\u001b[0;34m(\u001b[0m\u001b[0mconnection\u001b[0m\u001b[0;34m)\u001b[0m\u001b[0;34m\u001b[0m\u001b[0m\n",
      "\u001b[0;32m/opt/spark/spark-2.3.2-bin-hadoop2.7/python/lib/py4j-0.10.7-src.zip/py4j/java_gateway.py\u001b[0m in \u001b[0;36msend_command\u001b[0;34m(self, command)\u001b[0m\n\u001b[1;32m   1150\u001b[0m \u001b[0;34m\u001b[0m\u001b[0m\n\u001b[1;32m   1151\u001b[0m         \u001b[0;32mtry\u001b[0m\u001b[0;34m:\u001b[0m\u001b[0;34m\u001b[0m\u001b[0m\n\u001b[0;32m-> 1152\u001b[0;31m             \u001b[0manswer\u001b[0m \u001b[0;34m=\u001b[0m \u001b[0msmart_decode\u001b[0m\u001b[0;34m(\u001b[0m\u001b[0mself\u001b[0m\u001b[0;34m.\u001b[0m\u001b[0mstream\u001b[0m\u001b[0;34m.\u001b[0m\u001b[0mreadline\u001b[0m\u001b[0;34m(\u001b[0m\u001b[0;34m)\u001b[0m\u001b[0;34m[\u001b[0m\u001b[0;34m:\u001b[0m\u001b[0;34m-\u001b[0m\u001b[0;36m1\u001b[0m\u001b[0;34m]\u001b[0m\u001b[0;34m)\u001b[0m\u001b[0;34m\u001b[0m\u001b[0m\n\u001b[0m\u001b[1;32m   1153\u001b[0m             \u001b[0mlogger\u001b[0m\u001b[0;34m.\u001b[0m\u001b[0mdebug\u001b[0m\u001b[0;34m(\u001b[0m\u001b[0;34m\"Answer received: {0}\"\u001b[0m\u001b[0;34m.\u001b[0m\u001b[0mformat\u001b[0m\u001b[0;34m(\u001b[0m\u001b[0manswer\u001b[0m\u001b[0;34m)\u001b[0m\u001b[0;34m)\u001b[0m\u001b[0;34m\u001b[0m\u001b[0m\n\u001b[1;32m   1154\u001b[0m             \u001b[0;32mif\u001b[0m \u001b[0manswer\u001b[0m\u001b[0;34m.\u001b[0m\u001b[0mstartswith\u001b[0m\u001b[0;34m(\u001b[0m\u001b[0mproto\u001b[0m\u001b[0;34m.\u001b[0m\u001b[0mRETURN_MESSAGE\u001b[0m\u001b[0;34m)\u001b[0m\u001b[0;34m:\u001b[0m\u001b[0;34m\u001b[0m\u001b[0m\n",
      "\u001b[0;32m~/anaconda3/envs/ada/lib/python3.6/socket.py\u001b[0m in \u001b[0;36mreadinto\u001b[0;34m(self, b)\u001b[0m\n\u001b[1;32m    584\u001b[0m         \u001b[0;32mwhile\u001b[0m \u001b[0;32mTrue\u001b[0m\u001b[0;34m:\u001b[0m\u001b[0;34m\u001b[0m\u001b[0m\n\u001b[1;32m    585\u001b[0m             \u001b[0;32mtry\u001b[0m\u001b[0;34m:\u001b[0m\u001b[0;34m\u001b[0m\u001b[0m\n\u001b[0;32m--> 586\u001b[0;31m                 \u001b[0;32mreturn\u001b[0m \u001b[0mself\u001b[0m\u001b[0;34m.\u001b[0m\u001b[0m_sock\u001b[0m\u001b[0;34m.\u001b[0m\u001b[0mrecv_into\u001b[0m\u001b[0;34m(\u001b[0m\u001b[0mb\u001b[0m\u001b[0;34m)\u001b[0m\u001b[0;34m\u001b[0m\u001b[0m\n\u001b[0m\u001b[1;32m    587\u001b[0m             \u001b[0;32mexcept\u001b[0m \u001b[0mtimeout\u001b[0m\u001b[0;34m:\u001b[0m\u001b[0;34m\u001b[0m\u001b[0m\n\u001b[1;32m    588\u001b[0m                 \u001b[0mself\u001b[0m\u001b[0;34m.\u001b[0m\u001b[0m_timeout_occurred\u001b[0m \u001b[0;34m=\u001b[0m \u001b[0;32mTrue\u001b[0m\u001b[0;34m\u001b[0m\u001b[0m\n",
      "\u001b[0;31mKeyboardInterrupt\u001b[0m: "
     ]
    }
   ],
   "source": [
    "join.show()"
   ]
  }
 ],
 "metadata": {
  "kernelspec": {
   "display_name": "Python [conda env:ada]",
   "language": "python",
   "name": "conda-env-ada-py"
  },
  "language_info": {
   "codemirror_mode": {
    "name": "ipython",
    "version": 3
   },
   "file_extension": ".py",
   "mimetype": "text/x-python",
   "name": "python",
   "nbconvert_exporter": "python",
   "pygments_lexer": "ipython3",
   "version": "3.6.6"
  }
 },
 "nbformat": 4,
 "nbformat_minor": 2
}
