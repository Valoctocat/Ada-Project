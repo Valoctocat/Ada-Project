{
 "cells": [
  {
   "cell_type": "code",
   "execution_count": 29,
   "metadata": {},
   "outputs": [],
   "source": [
    "# Add your imports here\n",
    "import pandas as pd\n",
    "import numpy as np\n",
    "import scipy as sp\n",
    "import unidecode\n",
    "%matplotlib inline\n",
    "\n",
    "import findspark\n",
    "findspark.init('/opt/spark/spark-2.3.2-bin-hadoop2.7')\n",
    "\n",
    "from pyspark.sql import *\n",
    "from pyspark.sql.functions import *\n",
    "from pyspark.sql.functions import min\n",
    "from pyspark.sql.functions import lower, col\n",
    "\n",
    "from pyspark.sql import SparkSession\n",
    "from pyspark import SparkContext\n",
    "\n",
    "spark = SparkSession.builder.getOrCreate()\n",
    "sc = spark.sparkContext"
   ]
  },
  {
   "cell_type": "markdown",
   "metadata": {},
   "source": [
    "### Load Data"
   ]
  },
  {
   "cell_type": "code",
   "execution_count": 60,
   "metadata": {},
   "outputs": [],
   "source": [
    "data = spark.read.option(\"delimiter\", \"\\t\").option(\"header\", \"true\").csv(\"data/en.openfoodfacts.org.products.csv\") "
   ]
  },
  {
   "cell_type": "markdown",
   "metadata": {},
   "source": [
    "### Clean Data"
   ]
  },
  {
   "cell_type": "code",
   "execution_count": 61,
   "metadata": {},
   "outputs": [
    {
     "data": {
      "text/plain": [
       "[('code', 'string'),\n",
       " ('url', 'string'),\n",
       " ('creator', 'string'),\n",
       " ('created_t', 'string'),\n",
       " ('created_datetime', 'string'),\n",
       " ('last_modified_t', 'string'),\n",
       " ('last_modified_datetime', 'string'),\n",
       " ('product_name', 'string'),\n",
       " ('generic_name', 'string'),\n",
       " ('quantity', 'string'),\n",
       " ('packaging', 'string'),\n",
       " ('packaging_tags', 'string'),\n",
       " ('brands', 'string'),\n",
       " ('brands_tags', 'string'),\n",
       " ('categories', 'string'),\n",
       " ('categories_tags', 'string'),\n",
       " ('categories_en', 'string'),\n",
       " ('origins', 'string'),\n",
       " ('origins_tags', 'string'),\n",
       " ('manufacturing_places', 'string'),\n",
       " ('manufacturing_places_tags', 'string'),\n",
       " ('labels', 'string'),\n",
       " ('labels_tags', 'string'),\n",
       " ('labels_en', 'string'),\n",
       " ('emb_codes', 'string'),\n",
       " ('emb_codes_tags', 'string'),\n",
       " ('first_packaging_code_geo', 'string'),\n",
       " ('cities', 'string'),\n",
       " ('cities_tags', 'string'),\n",
       " ('purchase_places', 'string'),\n",
       " ('stores', 'string'),\n",
       " ('countries', 'string'),\n",
       " ('countries_tags', 'string'),\n",
       " ('countries_en', 'string'),\n",
       " ('ingredients_text', 'string'),\n",
       " ('allergens', 'string'),\n",
       " ('allergens_en', 'string'),\n",
       " ('traces', 'string'),\n",
       " ('traces_tags', 'string'),\n",
       " ('traces_en', 'string'),\n",
       " ('serving_size', 'string'),\n",
       " ('serving_quantity', 'string'),\n",
       " ('no_nutriments', 'string'),\n",
       " ('additives_n', 'string'),\n",
       " ('additives', 'string'),\n",
       " ('additives_tags', 'string'),\n",
       " ('additives_en', 'string'),\n",
       " ('ingredients_from_palm_oil_n', 'string'),\n",
       " ('ingredients_from_palm_oil', 'string'),\n",
       " ('ingredients_from_palm_oil_tags', 'string'),\n",
       " ('ingredients_that_may_be_from_palm_oil_n', 'string'),\n",
       " ('ingredients_that_may_be_from_palm_oil', 'string'),\n",
       " ('ingredients_that_may_be_from_palm_oil_tags', 'string'),\n",
       " ('nutrition_grade_uk', 'string'),\n",
       " ('nutrition_grade_fr', 'string'),\n",
       " ('pnns_groups_1', 'string'),\n",
       " ('pnns_groups_2', 'string'),\n",
       " ('states', 'string'),\n",
       " ('states_tags', 'string'),\n",
       " ('states_en', 'string'),\n",
       " ('main_category', 'string'),\n",
       " ('main_category_en', 'string'),\n",
       " ('image_url', 'string'),\n",
       " ('image_small_url', 'string'),\n",
       " ('image_ingredients_url', 'string'),\n",
       " ('image_ingredients_small_url', 'string'),\n",
       " ('image_nutrition_url', 'string'),\n",
       " ('image_nutrition_small_url', 'string'),\n",
       " ('energy_100g', 'string'),\n",
       " ('energy-from-fat_100g', 'string'),\n",
       " ('fat_100g', 'string'),\n",
       " ('saturated-fat_100g', 'string'),\n",
       " ('-butyric-acid_100g', 'string'),\n",
       " ('-caproic-acid_100g', 'string'),\n",
       " ('-caprylic-acid_100g', 'string'),\n",
       " ('-capric-acid_100g', 'string'),\n",
       " ('-lauric-acid_100g', 'string'),\n",
       " ('-myristic-acid_100g', 'string'),\n",
       " ('-palmitic-acid_100g', 'string'),\n",
       " ('-stearic-acid_100g', 'string'),\n",
       " ('-arachidic-acid_100g', 'string'),\n",
       " ('-behenic-acid_100g', 'string'),\n",
       " ('-lignoceric-acid_100g', 'string'),\n",
       " ('-cerotic-acid_100g', 'string'),\n",
       " ('-montanic-acid_100g', 'string'),\n",
       " ('-melissic-acid_100g', 'string'),\n",
       " ('monounsaturated-fat_100g', 'string'),\n",
       " ('polyunsaturated-fat_100g', 'string'),\n",
       " ('omega-3-fat_100g', 'string'),\n",
       " ('-alpha-linolenic-acid_100g', 'string'),\n",
       " ('-eicosapentaenoic-acid_100g', 'string'),\n",
       " ('-docosahexaenoic-acid_100g', 'string'),\n",
       " ('omega-6-fat_100g', 'string'),\n",
       " ('-linoleic-acid_100g', 'string'),\n",
       " ('-arachidonic-acid_100g', 'string'),\n",
       " ('-gamma-linolenic-acid_100g', 'string'),\n",
       " ('-dihomo-gamma-linolenic-acid_100g', 'string'),\n",
       " ('omega-9-fat_100g', 'string'),\n",
       " ('-oleic-acid_100g', 'string'),\n",
       " ('-elaidic-acid_100g', 'string'),\n",
       " ('-gondoic-acid_100g', 'string'),\n",
       " ('-mead-acid_100g', 'string'),\n",
       " ('-erucic-acid_100g', 'string'),\n",
       " ('-nervonic-acid_100g', 'string'),\n",
       " ('trans-fat_100g', 'string'),\n",
       " ('cholesterol_100g', 'string'),\n",
       " ('carbohydrates_100g', 'string'),\n",
       " ('sugars_100g', 'string'),\n",
       " ('-sucrose_100g', 'string'),\n",
       " ('-glucose_100g', 'string'),\n",
       " ('-fructose_100g', 'string'),\n",
       " ('-lactose_100g', 'string'),\n",
       " ('-maltose_100g', 'string'),\n",
       " ('-maltodextrins_100g', 'string'),\n",
       " ('starch_100g', 'string'),\n",
       " ('polyols_100g', 'string'),\n",
       " ('fiber_100g', 'string'),\n",
       " ('proteins_100g', 'string'),\n",
       " ('casein_100g', 'string'),\n",
       " ('serum-proteins_100g', 'string'),\n",
       " ('nucleotides_100g', 'string'),\n",
       " ('salt_100g', 'string'),\n",
       " ('sodium_100g', 'string'),\n",
       " ('alcohol_100g', 'string'),\n",
       " ('vitamin-a_100g', 'string'),\n",
       " ('beta-carotene_100g', 'string'),\n",
       " ('vitamin-d_100g', 'string'),\n",
       " ('vitamin-e_100g', 'string'),\n",
       " ('vitamin-k_100g', 'string'),\n",
       " ('vitamin-c_100g', 'string'),\n",
       " ('vitamin-b1_100g', 'string'),\n",
       " ('vitamin-b2_100g', 'string'),\n",
       " ('vitamin-pp_100g', 'string'),\n",
       " ('vitamin-b6_100g', 'string'),\n",
       " ('vitamin-b9_100g', 'string'),\n",
       " ('folates_100g', 'string'),\n",
       " ('vitamin-b12_100g', 'string'),\n",
       " ('biotin_100g', 'string'),\n",
       " ('pantothenic-acid_100g', 'string'),\n",
       " ('silica_100g', 'string'),\n",
       " ('bicarbonate_100g', 'string'),\n",
       " ('potassium_100g', 'string'),\n",
       " ('chloride_100g', 'string'),\n",
       " ('calcium_100g', 'string'),\n",
       " ('phosphorus_100g', 'string'),\n",
       " ('iron_100g', 'string'),\n",
       " ('magnesium_100g', 'string'),\n",
       " ('zinc_100g', 'string'),\n",
       " ('copper_100g', 'string'),\n",
       " ('manganese_100g', 'string'),\n",
       " ('fluoride_100g', 'string'),\n",
       " ('selenium_100g', 'string'),\n",
       " ('chromium_100g', 'string'),\n",
       " ('molybdenum_100g', 'string'),\n",
       " ('iodine_100g', 'string'),\n",
       " ('caffeine_100g', 'string'),\n",
       " ('taurine_100g', 'string'),\n",
       " ('ph_100g', 'string'),\n",
       " ('fruits-vegetables-nuts_100g', 'string'),\n",
       " ('fruits-vegetables-nuts-estimate_100g', 'string'),\n",
       " ('collagen-meat-protein-ratio_100g', 'string'),\n",
       " ('cocoa_100g', 'string'),\n",
       " ('chlorophyl_100g', 'string'),\n",
       " ('carbon-footprint_100g', 'string'),\n",
       " ('nutrition-score-fr_100g', 'string'),\n",
       " ('nutrition-score-uk_100g', 'string'),\n",
       " ('glycemic-index_100g', 'string'),\n",
       " ('water-hardness_100g', 'string'),\n",
       " ('choline_100g', 'string'),\n",
       " ('phylloquinone_100g', 'string'),\n",
       " ('beta-glucan_100g', 'string'),\n",
       " ('inositol_100g', 'string'),\n",
       " ('carnitine_100g', 'string')]"
      ]
     },
     "execution_count": 61,
     "metadata": {},
     "output_type": "execute_result"
    }
   ],
   "source": [
    "data.dtypes"
   ]
  },
  {
   "cell_type": "code",
   "execution_count": 63,
   "metadata": {},
   "outputs": [
    {
     "data": {
      "text/plain": [
       "689561"
      ]
     },
     "execution_count": 63,
     "metadata": {},
     "output_type": "execute_result"
    }
   ],
   "source": [
    "data.count()"
   ]
  },
  {
   "cell_type": "markdown",
   "metadata": {},
   "source": [
    "#### Origins"
   ]
  },
  {
   "cell_type": "code",
   "execution_count": 33,
   "metadata": {},
   "outputs": [
    {
     "data": {
      "text/plain": [
       "7462"
      ]
     },
     "execution_count": 33,
     "metadata": {},
     "output_type": "execute_result"
    }
   ],
   "source": [
    "origins = data.groupBy(\"origins\").count()\n",
    "origins.count()"
   ]
  },
  {
   "cell_type": "markdown",
   "metadata": {},
   "source": [
    "This is 7462 dinstinct origin countries. This is inconvenient as we are interested in the independant states only\n",
    "We therefore want to normalize this data. "
   ]
  },
  {
   "cell_type": "code",
   "execution_count": 99,
   "metadata": {},
   "outputs": [
    {
     "data": {
      "text/plain": [
       "6643"
      ]
     },
     "execution_count": 99,
     "metadata": {},
     "output_type": "execute_result"
    }
   ],
   "source": [
    "data.filter(data.origins_tags != \"\").groupBy(\"origins_tags\").count().count()"
   ]
  },
  {
   "cell_type": "markdown",
   "metadata": {},
   "source": [
    "This category actually shows less "
   ]
  },
  {
   "cell_type": "code",
   "execution_count": 100,
   "metadata": {},
   "outputs": [
    {
     "data": {
      "text/plain": [
       "6820"
      ]
     },
     "execution_count": 100,
     "metadata": {},
     "output_type": "execute_result"
    }
   ],
   "source": [
    "def convert(unicodestring):\n",
    "    return unidecode.unidecode(unicodestring)\n",
    "\n",
    "udf_remove_accent = udf(convert)\n",
    "\n",
    "origins_formated = data.filter(data.origins != \"\") \\\n",
    "                        .withColumn(\"origins\", lower(col(\"origins\"))) \\\n",
    "                        .withColumn(\"origins\", udf_remove_accent(col(\"origins\"))) \\\n",
    "                        .select(\"origins\")\n",
    "\n",
    "origins_grouped = origins_formated.groupBy(\"origins\").count()\n",
    "origins_grouped.sort(origins_grouped[\"count\"].desc()).count()"
   ]
  },
  {
   "cell_type": "markdown",
   "metadata": {},
   "source": [
    "We might want to split data on strings, explode and then groupBy again "
   ]
  },
  {
   "cell_type": "code",
   "execution_count": 115,
   "metadata": {},
   "outputs": [
    {
     "name": "stdout",
     "output_type": "stream",
     "text": [
      "+------------+-------+-----------------+--------------+\n",
      "|country-code|alpha-3|          name_fr|       name_en|\n",
      "+------------+-------+-----------------+--------------+\n",
      "|           4|    AFG|      Afghanistan|   Afghanistan|\n",
      "|           8|    ALB|          Albanie|       Albania|\n",
      "|          10|    ATA|      Antarctique|    Antarctica|\n",
      "|          12|    DZA|          Algérie|       Algeria|\n",
      "|          16|    ASM|Samoa Américaines|American Samoa|\n",
      "+------------+-------+-----------------+--------------+\n",
      "only showing top 5 rows\n",
      "\n",
      "241\n"
     ]
    }
   ],
   "source": [
    "countries = spark.read.csv(\"data/countries_fr.csv\").drop(\"_c0\",\"_c2\")\n",
    "countries = countries.withColumnRenamed(\"_c1\", \"country-code\") \\\n",
    "            .withColumnRenamed(\"_c3\", \"alpha-3\") \\\n",
    "            .withColumnRenamed(\"_c4\", \"name_fr\") \\\n",
    "            .withColumnRenamed(\"_c5\", \"name_en\") \n",
    "countries_fr.show(5)\n",
    "print(countries_fr.count())"
   ]
  },
  {
   "cell_type": "code",
   "execution_count": 116,
   "metadata": {},
   "outputs": [
    {
     "name": "stdout",
     "output_type": "stream",
     "text": [
      "+------------+-------+-----------------+--------------+\n",
      "|country-code|alpha-3|          name_fr|       name_en|\n",
      "+------------+-------+-----------------+--------------+\n",
      "|           4|    AFG|      afghanistan|   afghanistan|\n",
      "|           8|    ALB|          albanie|       albania|\n",
      "|          10|    ATA|      antarctique|    antarctica|\n",
      "|          12|    DZA|          algerie|       algeria|\n",
      "|          16|    ASM|samoa americaines|american samoa|\n",
      "+------------+-------+-----------------+--------------+\n",
      "only showing top 5 rows\n",
      "\n"
     ]
    }
   ],
   "source": [
    "countries_formatted = countries.withColumn(\"name_fr\", lower(col(\"name_fr\")))\\\n",
    "                                .withColumn(\"name_fr\", udf_remove_accent(col(\"name_fr\")))\\\n",
    "                                .withColumn(\"name_en\", lower(col(\"name_en\")))\\\n",
    "                                .withColumn(\"name_en\", udf_remove_accent(col(\"name_en\")))\n",
    "countries_formatted.show(5)"
   ]
  },
  {
   "cell_type": "markdown",
   "metadata": {},
   "source": [
    "Vous êtes libre de partager, distribuer ou utiliser cette base de données, pour des utilisations commerciales ou non, à condition de conserver cette licence et d’attribuer un lien vers le site sql.sh."
   ]
  },
  {
   "cell_type": "markdown",
   "metadata": {},
   "source": [
    "Join with origin dataframe"
   ]
  },
  {
   "cell_type": "code",
   "execution_count": 128,
   "metadata": {},
   "outputs": [
    {
     "data": {
      "text/plain": [
       "115"
      ]
     },
     "execution_count": 128,
     "metadata": {},
     "output_type": "execute_result"
    }
   ],
   "source": [
    "origins_joined_en = origins_grouped.join(countries_formatted, countries_formatted.name_en == origins_grouped.origins, \"inner\") \\\n",
    "                                .select(\"origins\", \"count\", \"country-code\") \\\n",
    "                                .withColumnRenamed(\"origins\", \"origins_en\") \\\n",
    "                                .withColumnRenamed(\"count\", \"count_en\")\n",
    "origins_joined_en.count()"
   ]
  },
  {
   "cell_type": "code",
   "execution_count": 129,
   "metadata": {},
   "outputs": [
    {
     "data": {
      "text/plain": [
       "124"
      ]
     },
     "execution_count": 129,
     "metadata": {},
     "output_type": "execute_result"
    }
   ],
   "source": [
    "origins_joined_fr = origins_grouped.join(countries_formatted, countries_formatted.name_fr == origins_grouped.origins, \"inner\") \\\n",
    "                                .select(\"origins\", \"count\", \"country-code\") \\\n",
    "                                .withColumnRenamed(\"origins\", \"origins_fr\") \\\n",
    "                                .withColumnRenamed(\"count\", \"count_fr\")\n",
    "origins_joined_fr.count()"
   ]
  },
  {
   "cell_type": "code",
   "execution_count": 130,
   "metadata": {},
   "outputs": [
    {
     "data": {
      "text/plain": [
       "129"
      ]
     },
     "execution_count": 130,
     "metadata": {},
     "output_type": "execute_result"
    }
   ],
   "source": [
    "origins_joined = origins_joined_en.join(origins_joined_fr, [\"country-code\"], \"outer\")\n",
    "origins_joined.count()"
   ]
  },
  {
   "cell_type": "code",
   "execution_count": 149,
   "metadata": {},
   "outputs": [
    {
     "name": "stdout",
     "output_type": "stream",
     "text": [
      "+------------+----------+--------+----------+--------+\n",
      "|country-code|origins_en|count_en|origins_fr|count_fr|\n",
      "+------------+----------+--------+----------+--------+\n",
      "|         100|  bulgaria|       9|  bulgarie|      18|\n",
      "|         108|   burundi|       3|   burundi|       3|\n",
      "|         116|  cambodia|       4|  cambodge|      13|\n",
      "|          12|   algeria|       1|   algerie|      36|\n",
      "|         120|  cameroon|       8|  cameroun|       6|\n",
      "|         124|    canada|     235|    canada|     235|\n",
      "|         144| sri lanka|     102| sri lanka|     102|\n",
      "|         152|     chile|      27|     chili|      44|\n",
      "|         156|     china|     210|     chine|     222|\n",
      "|         158|    taiwan|      45|    taiwan|      45|\n",
      "+------------+----------+--------+----------+--------+\n",
      "only showing top 10 rows\n",
      "\n"
     ]
    }
   ],
   "source": [
    "origins_joined.orderBy(\"country-code\").show(10)"
   ]
  },
  {
   "cell_type": "code",
   "execution_count": 150,
   "metadata": {},
   "outputs": [
    {
     "name": "stdout",
     "output_type": "stream",
     "text": [
      "+------------+------------------+-----------+\n",
      "|country-code|        origins_en|total_count|\n",
      "+------------+------------------+-----------+\n",
      "|         100|          bulgaria|         27|\n",
      "|         116|          cambodia|         17|\n",
      "|          12|           algeria|         37|\n",
      "|         120|          cameroon|         14|\n",
      "|         152|             chile|         71|\n",
      "|         156|             china|        432|\n",
      "|         170|          colombia|         47|\n",
      "|         191|           croatia|          7|\n",
      "|         196|            cyprus|          4|\n",
      "|         203|    czech republic|         13|\n",
      "|         208|           denmark|         59|\n",
      "|         214|dominican republic|         51|\n",
      "|         218|           ecuador|        136|\n",
      "|         233|           estonia|          4|\n",
      "|         246|           finland|         17|\n",
      "|         268|           georgia|         26|\n",
      "|         276|           germany|        297|\n",
      "|         300|            greece|        152|\n",
      "|         308|           grenada|          3|\n",
      "|          32|         argentina|         65|\n",
      "+------------+------------------+-----------+\n",
      "only showing top 20 rows\n",
      "\n"
     ]
    }
   ],
   "source": [
    "origins_total = origins_joined.filter(origins_joined.origins_fr.isin(origins_joined.origins_en) == False)\\\n",
    "                .withColumn(\"total_count\", col(\"count_en\")+col(\"count_fr\")) \\\n",
    "                .select(\"country-code\", \"origins_en\", \"total_count\") \\\n",
    "                .orderBy(\"country-code\")\\\n",
    "                .show()\n",
    "                "
   ]
  },
  {
   "cell_type": "markdown",
   "metadata": {},
   "source": [
    "#### Packaging"
   ]
  },
  {
   "cell_type": "code",
   "execution_count": 94,
   "metadata": {},
   "outputs": [
    {
     "data": {
      "text/plain": [
       "24873"
      ]
     },
     "execution_count": 94,
     "metadata": {},
     "output_type": "execute_result"
    }
   ],
   "source": [
    "data.filter(data.packaging != \"\").groupBy(\"packaging\").count().count()"
   ]
  },
  {
   "cell_type": "code",
   "execution_count": 93,
   "metadata": {},
   "outputs": [
    {
     "data": {
      "text/plain": [
       "20035"
      ]
     },
     "execution_count": 93,
     "metadata": {},
     "output_type": "execute_result"
    }
   ],
   "source": [
    "data.filter(data.packaging_tags != \"\").groupBy(\"packaging_tags\").count().count()"
   ]
  },
  {
   "cell_type": "code",
   "execution_count": null,
   "metadata": {},
   "outputs": [],
   "source": [
    "packaging_join = "
   ]
  },
  {
   "cell_type": "markdown",
   "metadata": {},
   "source": [
    "#### Categories"
   ]
  },
  {
   "cell_type": "code",
   "execution_count": 95,
   "metadata": {},
   "outputs": [
    {
     "data": {
      "text/plain": [
       "63319"
      ]
     },
     "execution_count": 95,
     "metadata": {},
     "output_type": "execute_result"
    }
   ],
   "source": [
    "data.filter(data.categories != \"\").groupBy(\"categories\").count().count()"
   ]
  },
  {
   "cell_type": "code",
   "execution_count": 96,
   "metadata": {},
   "outputs": [
    {
     "data": {
      "text/plain": [
       "36487"
      ]
     },
     "execution_count": 96,
     "metadata": {},
     "output_type": "execute_result"
    }
   ],
   "source": [
    "data.filter(data.categories_tags != \"\").groupBy(\"categories_tags\").count().count()"
   ]
  }
 ],
 "metadata": {
  "kernelspec": {
   "display_name": "Python [conda env:ada]",
   "language": "python",
   "name": "conda-env-ada-py"
  },
  "language_info": {
   "codemirror_mode": {
    "name": "ipython",
    "version": 3
   },
   "file_extension": ".py",
   "mimetype": "text/x-python",
   "name": "python",
   "nbconvert_exporter": "python",
   "pygments_lexer": "ipython3",
   "version": "3.6.6"
  }
 },
 "nbformat": 4,
 "nbformat_minor": 2
}
