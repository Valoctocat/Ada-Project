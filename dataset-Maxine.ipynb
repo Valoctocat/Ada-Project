{
 "cells": [
  {
   "cell_type": "code",
   "execution_count": 10,
   "metadata": {},
   "outputs": [],
   "source": [
    "# Add your imports here\n",
    "import pandas as pd\n",
    "import numpy as np\n",
    "import scipy as sp\n",
    "import json\n",
    "import folium\n",
    "import unidecode\n",
    "import branca\n",
    "import branca.colormap as cm\n",
    "import matplotlib.pyplot as plt\n",
    "\n",
    "%matplotlib inline\n",
    "\n",
    "import findspark\n",
    "findspark.init('/opt/spark/spark-2.3.2-bin-hadoop2.7')\n",
    "\n",
    "from pyspark.sql import *\n",
    "from pyspark.sql.functions import *\n",
    "from pyspark.sql.functions import min\n",
    "from pyspark.sql.functions import lower, col\n",
    "\n",
    "from pyspark.sql import SparkSession\n",
    "from pyspark import SparkContext\n",
    "\n",
    "spark = SparkSession.builder.getOrCreate()\n",
    "sc = spark.sparkContext"
   ]
  },
  {
   "cell_type": "markdown",
   "metadata": {},
   "source": [
    "### Load Data"
   ]
  },
  {
   "cell_type": "code",
   "execution_count": 5,
   "metadata": {},
   "outputs": [],
   "source": [
    "data = spark.read.option(\"delimiter\", \"\\t\").option(\"header\", \"true\").csv(\"data/en.openfoodfacts.org.products.csv\") "
   ]
  },
  {
   "cell_type": "markdown",
   "metadata": {},
   "source": [
    "### Clean Data"
   ]
  },
  {
   "cell_type": "code",
   "execution_count": 3,
   "metadata": {},
   "outputs": [
    {
     "data": {
      "text/plain": [
       "[('code', 'string'),\n",
       " ('url', 'string'),\n",
       " ('creator', 'string'),\n",
       " ('created_t', 'string'),\n",
       " ('created_datetime', 'string'),\n",
       " ('last_modified_t', 'string'),\n",
       " ('last_modified_datetime', 'string'),\n",
       " ('product_name', 'string'),\n",
       " ('generic_name', 'string'),\n",
       " ('quantity', 'string'),\n",
       " ('packaging', 'string'),\n",
       " ('packaging_tags', 'string'),\n",
       " ('brands', 'string'),\n",
       " ('brands_tags', 'string'),\n",
       " ('categories', 'string'),\n",
       " ('categories_tags', 'string'),\n",
       " ('categories_en', 'string'),\n",
       " ('origins', 'string'),\n",
       " ('origins_tags', 'string'),\n",
       " ('manufacturing_places', 'string'),\n",
       " ('manufacturing_places_tags', 'string'),\n",
       " ('labels', 'string'),\n",
       " ('labels_tags', 'string'),\n",
       " ('labels_en', 'string'),\n",
       " ('emb_codes', 'string'),\n",
       " ('emb_codes_tags', 'string'),\n",
       " ('first_packaging_code_geo', 'string'),\n",
       " ('cities', 'string'),\n",
       " ('cities_tags', 'string'),\n",
       " ('purchase_places', 'string'),\n",
       " ('stores', 'string'),\n",
       " ('countries', 'string'),\n",
       " ('countries_tags', 'string'),\n",
       " ('countries_en', 'string'),\n",
       " ('ingredients_text', 'string'),\n",
       " ('allergens', 'string'),\n",
       " ('allergens_en', 'string'),\n",
       " ('traces', 'string'),\n",
       " ('traces_tags', 'string'),\n",
       " ('traces_en', 'string'),\n",
       " ('serving_size', 'string'),\n",
       " ('serving_quantity', 'string'),\n",
       " ('no_nutriments', 'string'),\n",
       " ('additives_n', 'string'),\n",
       " ('additives', 'string'),\n",
       " ('additives_tags', 'string'),\n",
       " ('additives_en', 'string'),\n",
       " ('ingredients_from_palm_oil_n', 'string'),\n",
       " ('ingredients_from_palm_oil', 'string'),\n",
       " ('ingredients_from_palm_oil_tags', 'string'),\n",
       " ('ingredients_that_may_be_from_palm_oil_n', 'string'),\n",
       " ('ingredients_that_may_be_from_palm_oil', 'string'),\n",
       " ('ingredients_that_may_be_from_palm_oil_tags', 'string'),\n",
       " ('nutrition_grade_uk', 'string'),\n",
       " ('nutrition_grade_fr', 'string'),\n",
       " ('pnns_groups_1', 'string'),\n",
       " ('pnns_groups_2', 'string'),\n",
       " ('states', 'string'),\n",
       " ('states_tags', 'string'),\n",
       " ('states_en', 'string'),\n",
       " ('main_category', 'string'),\n",
       " ('main_category_en', 'string'),\n",
       " ('image_url', 'string'),\n",
       " ('image_small_url', 'string'),\n",
       " ('image_ingredients_url', 'string'),\n",
       " ('image_ingredients_small_url', 'string'),\n",
       " ('image_nutrition_url', 'string'),\n",
       " ('image_nutrition_small_url', 'string'),\n",
       " ('energy_100g', 'string'),\n",
       " ('energy-from-fat_100g', 'string'),\n",
       " ('fat_100g', 'string'),\n",
       " ('saturated-fat_100g', 'string'),\n",
       " ('-butyric-acid_100g', 'string'),\n",
       " ('-caproic-acid_100g', 'string'),\n",
       " ('-caprylic-acid_100g', 'string'),\n",
       " ('-capric-acid_100g', 'string'),\n",
       " ('-lauric-acid_100g', 'string'),\n",
       " ('-myristic-acid_100g', 'string'),\n",
       " ('-palmitic-acid_100g', 'string'),\n",
       " ('-stearic-acid_100g', 'string'),\n",
       " ('-arachidic-acid_100g', 'string'),\n",
       " ('-behenic-acid_100g', 'string'),\n",
       " ('-lignoceric-acid_100g', 'string'),\n",
       " ('-cerotic-acid_100g', 'string'),\n",
       " ('-montanic-acid_100g', 'string'),\n",
       " ('-melissic-acid_100g', 'string'),\n",
       " ('monounsaturated-fat_100g', 'string'),\n",
       " ('polyunsaturated-fat_100g', 'string'),\n",
       " ('omega-3-fat_100g', 'string'),\n",
       " ('-alpha-linolenic-acid_100g', 'string'),\n",
       " ('-eicosapentaenoic-acid_100g', 'string'),\n",
       " ('-docosahexaenoic-acid_100g', 'string'),\n",
       " ('omega-6-fat_100g', 'string'),\n",
       " ('-linoleic-acid_100g', 'string'),\n",
       " ('-arachidonic-acid_100g', 'string'),\n",
       " ('-gamma-linolenic-acid_100g', 'string'),\n",
       " ('-dihomo-gamma-linolenic-acid_100g', 'string'),\n",
       " ('omega-9-fat_100g', 'string'),\n",
       " ('-oleic-acid_100g', 'string'),\n",
       " ('-elaidic-acid_100g', 'string'),\n",
       " ('-gondoic-acid_100g', 'string'),\n",
       " ('-mead-acid_100g', 'string'),\n",
       " ('-erucic-acid_100g', 'string'),\n",
       " ('-nervonic-acid_100g', 'string'),\n",
       " ('trans-fat_100g', 'string'),\n",
       " ('cholesterol_100g', 'string'),\n",
       " ('carbohydrates_100g', 'string'),\n",
       " ('sugars_100g', 'string'),\n",
       " ('-sucrose_100g', 'string'),\n",
       " ('-glucose_100g', 'string'),\n",
       " ('-fructose_100g', 'string'),\n",
       " ('-lactose_100g', 'string'),\n",
       " ('-maltose_100g', 'string'),\n",
       " ('-maltodextrins_100g', 'string'),\n",
       " ('starch_100g', 'string'),\n",
       " ('polyols_100g', 'string'),\n",
       " ('fiber_100g', 'string'),\n",
       " ('proteins_100g', 'string'),\n",
       " ('casein_100g', 'string'),\n",
       " ('serum-proteins_100g', 'string'),\n",
       " ('nucleotides_100g', 'string'),\n",
       " ('salt_100g', 'string'),\n",
       " ('sodium_100g', 'string'),\n",
       " ('alcohol_100g', 'string'),\n",
       " ('vitamin-a_100g', 'string'),\n",
       " ('beta-carotene_100g', 'string'),\n",
       " ('vitamin-d_100g', 'string'),\n",
       " ('vitamin-e_100g', 'string'),\n",
       " ('vitamin-k_100g', 'string'),\n",
       " ('vitamin-c_100g', 'string'),\n",
       " ('vitamin-b1_100g', 'string'),\n",
       " ('vitamin-b2_100g', 'string'),\n",
       " ('vitamin-pp_100g', 'string'),\n",
       " ('vitamin-b6_100g', 'string'),\n",
       " ('vitamin-b9_100g', 'string'),\n",
       " ('folates_100g', 'string'),\n",
       " ('vitamin-b12_100g', 'string'),\n",
       " ('biotin_100g', 'string'),\n",
       " ('pantothenic-acid_100g', 'string'),\n",
       " ('silica_100g', 'string'),\n",
       " ('bicarbonate_100g', 'string'),\n",
       " ('potassium_100g', 'string'),\n",
       " ('chloride_100g', 'string'),\n",
       " ('calcium_100g', 'string'),\n",
       " ('phosphorus_100g', 'string'),\n",
       " ('iron_100g', 'string'),\n",
       " ('magnesium_100g', 'string'),\n",
       " ('zinc_100g', 'string'),\n",
       " ('copper_100g', 'string'),\n",
       " ('manganese_100g', 'string'),\n",
       " ('fluoride_100g', 'string'),\n",
       " ('selenium_100g', 'string'),\n",
       " ('chromium_100g', 'string'),\n",
       " ('molybdenum_100g', 'string'),\n",
       " ('iodine_100g', 'string'),\n",
       " ('caffeine_100g', 'string'),\n",
       " ('taurine_100g', 'string'),\n",
       " ('ph_100g', 'string'),\n",
       " ('fruits-vegetables-nuts_100g', 'string'),\n",
       " ('fruits-vegetables-nuts-estimate_100g', 'string'),\n",
       " ('collagen-meat-protein-ratio_100g', 'string'),\n",
       " ('cocoa_100g', 'string'),\n",
       " ('chlorophyl_100g', 'string'),\n",
       " ('carbon-footprint_100g', 'string'),\n",
       " ('nutrition-score-fr_100g', 'string'),\n",
       " ('nutrition-score-uk_100g', 'string'),\n",
       " ('glycemic-index_100g', 'string'),\n",
       " ('water-hardness_100g', 'string'),\n",
       " ('choline_100g', 'string'),\n",
       " ('phylloquinone_100g', 'string'),\n",
       " ('beta-glucan_100g', 'string'),\n",
       " ('inositol_100g', 'string'),\n",
       " ('carnitine_100g', 'string')]"
      ]
     },
     "execution_count": 3,
     "metadata": {},
     "output_type": "execute_result"
    }
   ],
   "source": [
    "data.dtypes"
   ]
  },
  {
   "cell_type": "code",
   "execution_count": 4,
   "metadata": {},
   "outputs": [
    {
     "data": {
      "text/plain": [
       "692133"
      ]
     },
     "execution_count": 4,
     "metadata": {},
     "output_type": "execute_result"
    }
   ],
   "source": [
    "data.count()"
   ]
  },
  {
   "cell_type": "markdown",
   "metadata": {},
   "source": [
    "#### Origins"
   ]
  },
  {
   "cell_type": "code",
   "execution_count": 69,
   "metadata": {},
   "outputs": [
    {
     "data": {
      "text/plain": [
       "41524"
      ]
     },
     "execution_count": 69,
     "metadata": {},
     "output_type": "execute_result"
    }
   ],
   "source": [
    "data.filter(data.origins != \"\").count()"
   ]
  },
  {
   "cell_type": "code",
   "execution_count": 82,
   "metadata": {},
   "outputs": [
    {
     "data": {
      "text/plain": [
       "0"
      ]
     },
     "execution_count": 82,
     "metadata": {},
     "output_type": "execute_result"
    }
   ],
   "source": [
    "data.filter(data.origins != \"\").filter(data.origins.contains(\"france|France\")).count()"
   ]
  },
  {
   "cell_type": "code",
   "execution_count": 70,
   "metadata": {},
   "outputs": [
    {
     "data": {
      "text/plain": [
       "0"
      ]
     },
     "execution_count": 70,
     "metadata": {},
     "output_type": "execute_result"
    }
   ],
   "source": [
    "data.filter(data.origins = \"\").filter(data.origins_tags!=\"\").count()"
   ]
  },
  {
   "cell_type": "code",
   "execution_count": 6,
   "metadata": {},
   "outputs": [
    {
     "data": {
      "text/plain": [
       "7462"
      ]
     },
     "execution_count": 6,
     "metadata": {},
     "output_type": "execute_result"
    }
   ],
   "source": [
    "origins = data.groupBy(\"origins\").count()\n",
    "origins.count()"
   ]
  },
  {
   "cell_type": "markdown",
   "metadata": {},
   "source": [
    "This is 7462 dinstinct origin countries. This is inconvenient as we are interested in the independant states only\n",
    "We therefore want to normalize this data. "
   ]
  },
  {
   "cell_type": "code",
   "execution_count": 7,
   "metadata": {},
   "outputs": [
    {
     "data": {
      "text/plain": [
       "6643"
      ]
     },
     "execution_count": 7,
     "metadata": {},
     "output_type": "execute_result"
    }
   ],
   "source": [
    "data.filter(data.origins_tags != \"\").groupBy(\"origins_tags\").count().count()"
   ]
  },
  {
   "cell_type": "markdown",
   "metadata": {},
   "source": [
    "This category actually shows less "
   ]
  },
  {
   "cell_type": "code",
   "execution_count": 11,
   "metadata": {},
   "outputs": [
    {
     "data": {
      "text/plain": [
       "6820"
      ]
     },
     "execution_count": 11,
     "metadata": {},
     "output_type": "execute_result"
    }
   ],
   "source": [
    "def convert(unicodestring):\n",
    "    return unidecode.unidecode(unicodestring)\n",
    "\n",
    "udf_remove_accent = udf(convert)\n",
    "\n",
    "origins_formated = data.filter(data.origins != \"\") \\\n",
    "                        .withColumn(\"origins\", lower(col(\"origins\"))) \\\n",
    "                        .withColumn(\"origins\", udf_remove_accent(col(\"origins\"))) \\\n",
    "                        .select(\"origins\")\n",
    "\n",
    "origins_grouped = origins_formated.groupBy(\"origins\").count()\n",
    "origins_grouped.sort(origins_grouped[\"count\"].desc()).count()"
   ]
  },
  {
   "cell_type": "markdown",
   "metadata": {},
   "source": [
    "We might want to split data on strings, explode and then groupBy again "
   ]
  },
  {
   "cell_type": "code",
   "execution_count": 32,
   "metadata": {},
   "outputs": [],
   "source": [
    "origins_grouped.where(origins_grouped.origins.contains(\"france\")==False)\\\n",
    "                .toPandas().to_csv('origins.csv')"
   ]
  },
  {
   "cell_type": "code",
   "execution_count": 84,
   "metadata": {},
   "outputs": [],
   "source": [
    "origins_splited = origins_grouped.select('*', explode(split(origins_grouped[\"origins\"],\",\\\\s*\")).alias(\"ori\"))\n",
    "origins_splited_grouped = origins_splited.dropDuplicates() \\\n",
    "                                            .select(\"ori\", \"count\")\\\n",
    "                                            .groupBy(\"ori\")\\\n",
    "                                            .sum() \\\n",
    "                                            .withColumnRenamed(\"ori\", \"origins\") \\\n",
    "                                            .withColumnRenamed(\"sum(count)\", \"count\")"
   ]
  },
  {
   "cell_type": "code",
   "execution_count": 85,
   "metadata": {},
   "outputs": [
    {
     "name": "stdout",
     "output_type": "stream",
     "text": [
      "+------------+-------+-----------------+--------------+\n",
      "|country-code|alpha-3|          name_fr|       name_en|\n",
      "+------------+-------+-----------------+--------------+\n",
      "|           4|    AFG|      Afghanistan|   Afghanistan|\n",
      "|           8|    ALB|          Albanie|       Albania|\n",
      "|          10|    ATA|      Antarctique|    Antarctica|\n",
      "|          12|    DZA|          Algérie|       Algeria|\n",
      "|          16|    ASM|Samoa Américaines|American Samoa|\n",
      "+------------+-------+-----------------+--------------+\n",
      "only showing top 5 rows\n",
      "\n",
      "241\n"
     ]
    }
   ],
   "source": [
    "countries_fr = spark.read.csv(\"data/countries_fr.csv\").drop(\"_c0\",\"_c2\")\n",
    "countries_fr = countries_fr.withColumnRenamed(\"_c1\", \"country-code\") \\\n",
    "            .withColumnRenamed(\"_c3\", \"alpha-3\") \\\n",
    "            .withColumnRenamed(\"_c4\", \"name_fr\") \\\n",
    "            .withColumnRenamed(\"_c5\", \"name_en\") \n",
    "countries_fr.show(5)\n",
    "print(countries_fr.count())"
   ]
  },
  {
   "cell_type": "code",
   "execution_count": 86,
   "metadata": {},
   "outputs": [
    {
     "name": "stdout",
     "output_type": "stream",
     "text": [
      "+------------+-------+-----------------+--------------+\n",
      "|country-code|alpha-3|          name_fr|       name_en|\n",
      "+------------+-------+-----------------+--------------+\n",
      "|           4|    AFG|      afghanistan|   afghanistan|\n",
      "|           8|    ALB|          albanie|       albania|\n",
      "|          10|    ATA|      antarctique|    antarctica|\n",
      "|          12|    DZA|          algerie|       algeria|\n",
      "|          16|    ASM|samoa americaines|american samoa|\n",
      "+------------+-------+-----------------+--------------+\n",
      "only showing top 5 rows\n",
      "\n"
     ]
    }
   ],
   "source": [
    "countries_formatted = countries_fr.withColumn(\"name_fr\", lower(col(\"name_fr\")))\\\n",
    "                                .withColumn(\"name_fr\", udf_remove_accent(col(\"name_fr\")))\\\n",
    "                                .withColumn(\"name_en\", lower(col(\"name_en\")))\\\n",
    "                                .withColumn(\"name_en\", udf_remove_accent(col(\"name_en\")))\n",
    "countries_formatted.show(5)"
   ]
  },
  {
   "cell_type": "markdown",
   "metadata": {},
   "source": [
    "Vous êtes libre de partager, distribuer ou utiliser cette base de données, pour des utilisations commerciales ou non, à condition de conserver cette licence et d’attribuer un lien vers le site sql.sh."
   ]
  },
  {
   "cell_type": "markdown",
   "metadata": {},
   "source": [
    "Join with origin dataframe"
   ]
  },
  {
   "cell_type": "code",
   "execution_count": 87,
   "metadata": {},
   "outputs": [
    {
     "data": {
      "text/plain": [
       "124"
      ]
     },
     "execution_count": 87,
     "metadata": {},
     "output_type": "execute_result"
    }
   ],
   "source": [
    "origins_joined_en = origins_splited_grouped\\\n",
    "                                .join(countries_formatted, countries_formatted.name_en == origins_splited_grouped.origins, \"inner\") \\\n",
    "                                .select(\"origins\", \"count\", \"country-code\",\"alpha-3\") \\\n",
    "                                .withColumnRenamed(\"origins\", \"origins_en\") \\\n",
    "                                .withColumnRenamed(\"count\", \"count_en\") \\\n",
    "                                .withColumnRenamed(\"alpha-3\", \"alpha-3a\") \\\n",
    "                                .dropDuplicates()\n",
    "                                \n",
    "origins_joined_en.count()"
   ]
  },
  {
   "cell_type": "code",
   "execution_count": 88,
   "metadata": {},
   "outputs": [
    {
     "data": {
      "text/plain": [
       "134"
      ]
     },
     "execution_count": 88,
     "metadata": {},
     "output_type": "execute_result"
    }
   ],
   "source": [
    "origins_joined_fr = origins_splited_grouped\\\n",
    "                                .join(countries_formatted, countries_formatted.name_fr == origins_splited_grouped.origins, \"inner\") \\\n",
    "                                .select(\"origins\", \"count\", \"country-code\",\"alpha-3\") \\\n",
    "                                .withColumnRenamed(\"origins\", \"origins_fr\") \\\n",
    "                                .withColumnRenamed(\"count\", \"count_fr\") \\\n",
    "                                .dropDuplicates()\n",
    "origins_joined_fr.count()"
   ]
  },
  {
   "cell_type": "code",
   "execution_count": 89,
   "metadata": {},
   "outputs": [
    {
     "data": {
      "text/plain": [
       "141"
      ]
     },
     "execution_count": 89,
     "metadata": {},
     "output_type": "execute_result"
    }
   ],
   "source": [
    "origins_joined = origins_joined_en.join(origins_joined_fr, [\"country-code\"], \"outer\")\n",
    "origins_joined.count()"
   ]
  },
  {
   "cell_type": "code",
   "execution_count": 90,
   "metadata": {},
   "outputs": [
    {
     "name": "stdout",
     "output_type": "stream",
     "text": [
      "+------------+-------------+--------+--------+------------+--------+-------+\n",
      "|country-code|   origins_en|count_en|alpha-3a|  origins_fr|count_fr|alpha-3|\n",
      "+------------+-------------+--------+--------+------------+--------+-------+\n",
      "|         800|       uganda|       2|     UGA|     ouganda|       7|    UGA|\n",
      "|         124|       canada|     332|     CAN|      canada|     332|    CAN|\n",
      "|          51|         null|    null|    null|     armenie|       1|    ARM|\n",
      "|         591|       panama|       3|     PAN|      panama|       3|    PAN|\n",
      "|         740|     suriname|       1|     SUR|    suriname|       1|    SUR|\n",
      "|         442|   luxembourg|      12|     LUX|  luxembourg|      12|    LUX|\n",
      "|         462|     maldives|       1|     MDV|    maldives|       1|    MDV|\n",
      "|         470|         null|    null|    null|       malte|       1|    MLT|\n",
      "|         234|faroe islands|       1|     FRO|  iles feroe|      51|    FRO|\n",
      "|         862|    venezuela|      21|     VEN|   venezuela|      21|    VEN|\n",
      "|         388|      jamaica|       2|     JAM|    jamaique|       3|    JAM|\n",
      "|         428|       latvia|       2|     LVA|        null|    null|   null|\n",
      "|         854| burkina faso|      23|     BFA|burkina faso|      23|    BFA|\n",
      "|         422|      lebanon|       2|     LBN|       liban|       7|    LBN|\n",
      "|         703|     slovakia|       1|     SVK|   slovaquie|       5|    SVK|\n",
      "|         724|        spain|      85|     ESP|     espagne|    1185|    ESP|\n",
      "|         788|      tunisia|      10|     TUN|     tunisie|     146|    TUN|\n",
      "|         586|     pakistan|      53|     PAK|    pakistan|      53|    PAK|\n",
      "|         686|      senegal|      17|     SEN|     senegal|      17|    SEN|\n",
      "|         308|      grenada|       2|     GRD|     grenade|       1|    GRD|\n",
      "+------------+-------------+--------+--------+------------+--------+-------+\n",
      "only showing top 20 rows\n",
      "\n"
     ]
    }
   ],
   "source": [
    "origins_joined.show()"
   ]
  },
  {
   "cell_type": "code",
   "execution_count": 91,
   "metadata": {},
   "outputs": [
    {
     "name": "stdout",
     "output_type": "stream",
     "text": [
      "+------------+------------------+--------+--------------------+--------+-------+\n",
      "|country-code|        origins_en|count_en|          origins_fr|count_fr|alpha-3|\n",
      "+------------+------------------+--------+--------------------+--------+-------+\n",
      "|         100|          bulgaria|      12|            bulgarie|      25|    BGR|\n",
      "|         108|           burundi|       4|             burundi|       4|    BDI|\n",
      "|         116|          cambodia|      11|            cambodge|      16|    KHM|\n",
      "|          12|           algeria|       1|             algerie|      44|    DZA|\n",
      "|         120|          cameroon|      11|            cameroun|       8|    CMR|\n",
      "|         124|            canada|     332|              canada|     332|    CAN|\n",
      "|         144|         sri lanka|     140|           sri lanka|     140|    LKA|\n",
      "|         152|             chile|      34|               chili|     114|    CHL|\n",
      "|         156|             china|     250|               chine|     284|    CHN|\n",
      "|         158|            taiwan|      49|              taiwan|      49|    TWN|\n",
      "|         170|          colombia|      22|            colombie|      40|    COL|\n",
      "|         174|              null|    null|             comores|       3|    COM|\n",
      "|         180|              null|    null|republique democr...|       2|    COD|\n",
      "|         188|        costa rica|      69|          costa rica|      69|    CRI|\n",
      "|         191|           croatia|       6|             croatie|       1|    HRV|\n",
      "|         192|              cuba|      27|                cuba|      27|    CUB|\n",
      "|         196|            cyprus|       1|              chypre|       5|    CYP|\n",
      "|         203|    czech republic|       9|  republique tcheque|       7|    CZE|\n",
      "|         204|             benin|       1|               benin|       1|    BEN|\n",
      "|         208|           denmark|      41|            danemark|      37|    DNK|\n",
      "|         214|dominican republic|       2|republique domini...|      97|    DOM|\n",
      "|         218|           ecuador|      30|            equateur|     203|    ECU|\n",
      "|         231|          ethiopia|       1|            ethiopie|      37|    ETH|\n",
      "|         233|           estonia|       2|             estonie|       2|    EST|\n",
      "|         234|     faroe islands|       1|          iles feroe|      51|    FRO|\n",
      "|         242|              null|    null|               fidji|       1|    FJI|\n",
      "|         246|           finland|       8|            finlande|      15|    FIN|\n",
      "|         250|            france|   15666|              france|   15666|    FRA|\n",
      "|         254|              null|    null|    guyane francaise|       3|    GUF|\n",
      "|         258|              null|    null| polynesie francaise|      12|    PYF|\n",
      "+------------+------------------+--------+--------------------+--------+-------+\n",
      "only showing top 30 rows\n",
      "\n"
     ]
    }
   ],
   "source": [
    "origins_joined.orderBy(\"country-code\").drop(\"alpha-3a\").show(30)"
   ]
  },
  {
   "cell_type": "code",
   "execution_count": 92,
   "metadata": {},
   "outputs": [
    {
     "name": "stdout",
     "output_type": "stream",
     "text": [
      "+------------+------------------+-----------+-------+\n",
      "|country-code|        origins_en|total_count|alpha-3|\n",
      "+------------+------------------+-----------+-------+\n",
      "|         100|          bulgaria|         37|    BGR|\n",
      "|         116|          cambodia|         27|    KHM|\n",
      "|          12|           algeria|         45|    DZA|\n",
      "|         120|          cameroon|         19|    CMR|\n",
      "|         152|             chile|        148|    CHL|\n",
      "|         156|             china|        534|    CHN|\n",
      "|         170|          colombia|         62|    COL|\n",
      "|         191|           croatia|          7|    HRV|\n",
      "|         196|            cyprus|          6|    CYP|\n",
      "|         203|    czech republic|         16|    CZE|\n",
      "|         208|           denmark|         78|    DNK|\n",
      "|         214|dominican republic|         99|    DOM|\n",
      "|         218|           ecuador|        233|    ECU|\n",
      "|         231|          ethiopia|         38|    ETH|\n",
      "|         233|           estonia|          4|    EST|\n",
      "|         234|     faroe islands|         52|    FRO|\n",
      "|         246|           finland|         23|    FIN|\n",
      "|         268|           georgia|         28|    GEO|\n",
      "|         276|           germany|        491|    DEU|\n",
      "|         300|            greece|        180|    GRC|\n",
      "|         308|           grenada|          3|    GRD|\n",
      "|          32|         argentina|        182|    ARG|\n",
      "|         348|           hungary|         64|    HUN|\n",
      "|         352|           iceland|         62|    ISL|\n",
      "|         356|             india|        306|    IND|\n",
      "|          36|         australia|        610|    AUS|\n",
      "|         360|         indonesia|        122|    IDN|\n",
      "|         372|           ireland|        179|    IRL|\n",
      "|         380|             italy|       1426|    ITA|\n",
      "|         388|           jamaica|          5|    JAM|\n",
      "+------------+------------------+-----------+-------+\n",
      "only showing top 30 rows\n",
      "\n"
     ]
    }
   ],
   "source": [
    "origins_total_1 = origins_joined.filter(origins_joined.origins_fr.isin(origins_joined.origins_en) == False)\\\n",
    "                .withColumn(\"total_count\", col(\"count_en\")+col(\"count_fr\")) \\\n",
    "                .select(\"country-code\", \"origins_en\", \"total_count\",\"alpha-3\") \\\n",
    "                .orderBy(\"country-code\")\n",
    "origins_total_1.show(30)          "
   ]
  },
  {
   "cell_type": "code",
   "execution_count": 93,
   "metadata": {
    "scrolled": true
   },
   "outputs": [
    {
     "name": "stdout",
     "output_type": "stream",
     "text": [
      "+------------+-------------+-----------+-------+\n",
      "|country-code|   origins_en|total_count|alpha-3|\n",
      "+------------+-------------+-----------+-------+\n",
      "|         108|      burundi|          4|    BDI|\n",
      "|         124|       canada|        332|    CAN|\n",
      "|         144|    sri lanka|        140|    LKA|\n",
      "|         158|       taiwan|         49|    TWN|\n",
      "|         188|   costa rica|         69|    CRI|\n",
      "|         192|         cuba|         27|    CUB|\n",
      "|         204|        benin|          1|    BEN|\n",
      "|         250|       france|      15666|    FRA|\n",
      "|         288|        ghana|         32|    GHA|\n",
      "|         312|   guadeloupe|         37|    GLP|\n",
      "|         320|    guatemala|         22|    GTM|\n",
      "|         328|       guyana|          4|    GUY|\n",
      "|         332|        haiti|         16|    HTI|\n",
      "|         340|     honduras|         18|    HND|\n",
      "|         368|         iraq|          2|    IRQ|\n",
      "|         376|       israel|         51|    ISR|\n",
      "|         384|cote d'ivoire|         59|    CIV|\n",
      "|         398|   kazakhstan|          2|    KAZ|\n",
      "|           4|  afghanistan|          1|    AFG|\n",
      "|         404|        kenya|         61|    KEN|\n",
      "|         438|liechtenstein|          1|    LIE|\n",
      "|         442|   luxembourg|         12|    LUX|\n",
      "|         450|   madagascar|        227|    MDG|\n",
      "|         454|       malawi|          2|    MWI|\n",
      "|         462|     maldives|          1|    MDV|\n",
      "|         466|         mali|          3|    MLI|\n",
      "|         474|   martinique|         43|    MTQ|\n",
      "|         492|       monaco|          1|    MCO|\n",
      "|          50|   bangladesh|          4|    BGD|\n",
      "|         508|   mozambique|          2|    MOZ|\n",
      "+------------+-------------+-----------+-------+\n",
      "only showing top 30 rows\n",
      "\n"
     ]
    }
   ],
   "source": [
    "origins_total_2 = origins_joined.filter(origins_joined.origins_fr.isin(origins_joined.origins_en) == True)\\\n",
    "                .withColumn(\"total_count\", col(\"count_en\")) \\\n",
    "                .select(\"country-code\", \"origins_en\", \"total_count\",\"alpha-3\") \\\n",
    "                .orderBy(\"country-code\")\n",
    "origins_total_2.show(30)"
   ]
  },
  {
   "cell_type": "code",
   "execution_count": 94,
   "metadata": {},
   "outputs": [
    {
     "name": "stdout",
     "output_type": "stream",
     "text": [
      "+------------+------------------+-----------+-------+\n",
      "|country-code|        origins_en|total_count|alpha-3|\n",
      "+------------+------------------+-----------+-------+\n",
      "|         100|          bulgaria|         37|    BGR|\n",
      "|         116|          cambodia|         27|    KHM|\n",
      "|          12|           algeria|         45|    DZA|\n",
      "|         120|          cameroon|         19|    CMR|\n",
      "|         152|             chile|        148|    CHL|\n",
      "|         156|             china|        534|    CHN|\n",
      "|         170|          colombia|         62|    COL|\n",
      "|         191|           croatia|          7|    HRV|\n",
      "|         196|            cyprus|          6|    CYP|\n",
      "|         203|    czech republic|         16|    CZE|\n",
      "|         208|           denmark|         78|    DNK|\n",
      "|         214|dominican republic|         99|    DOM|\n",
      "|         218|           ecuador|        233|    ECU|\n",
      "|         231|          ethiopia|         38|    ETH|\n",
      "|         233|           estonia|          4|    EST|\n",
      "|         234|     faroe islands|         52|    FRO|\n",
      "|         246|           finland|         23|    FIN|\n",
      "|         268|           georgia|         28|    GEO|\n",
      "|         276|           germany|        491|    DEU|\n",
      "|         300|            greece|        180|    GRC|\n",
      "|         308|           grenada|          3|    GRD|\n",
      "|          32|         argentina|        182|    ARG|\n",
      "|         348|           hungary|         64|    HUN|\n",
      "|         352|           iceland|         62|    ISL|\n",
      "|         356|             india|        306|    IND|\n",
      "|          36|         australia|        610|    AUS|\n",
      "|         360|         indonesia|        122|    IDN|\n",
      "|         372|           ireland|        179|    IRL|\n",
      "|         380|             italy|       1426|    ITA|\n",
      "|         388|           jamaica|          5|    JAM|\n",
      "+------------+------------------+-----------+-------+\n",
      "only showing top 30 rows\n",
      "\n"
     ]
    },
    {
     "ename": "AnalysisException",
     "evalue": "'path file:/home/valentin/Desktop/ADA/Ada-Project/origins.parquet already exists.;'",
     "output_type": "error",
     "traceback": [
      "\u001b[0;31m---------------------------------------------------------------------------\u001b[0m",
      "\u001b[0;31mPy4JJavaError\u001b[0m                             Traceback (most recent call last)",
      "\u001b[0;32m/opt/spark/spark-2.3.2-bin-hadoop2.7/python/pyspark/sql/utils.py\u001b[0m in \u001b[0;36mdeco\u001b[0;34m(*a, **kw)\u001b[0m\n\u001b[1;32m     62\u001b[0m         \u001b[0;32mtry\u001b[0m\u001b[0;34m:\u001b[0m\u001b[0;34m\u001b[0m\u001b[0m\n\u001b[0;32m---> 63\u001b[0;31m             \u001b[0;32mreturn\u001b[0m \u001b[0mf\u001b[0m\u001b[0;34m(\u001b[0m\u001b[0;34m*\u001b[0m\u001b[0ma\u001b[0m\u001b[0;34m,\u001b[0m \u001b[0;34m**\u001b[0m\u001b[0mkw\u001b[0m\u001b[0;34m)\u001b[0m\u001b[0;34m\u001b[0m\u001b[0m\n\u001b[0m\u001b[1;32m     64\u001b[0m         \u001b[0;32mexcept\u001b[0m \u001b[0mpy4j\u001b[0m\u001b[0;34m.\u001b[0m\u001b[0mprotocol\u001b[0m\u001b[0;34m.\u001b[0m\u001b[0mPy4JJavaError\u001b[0m \u001b[0;32mas\u001b[0m \u001b[0me\u001b[0m\u001b[0;34m:\u001b[0m\u001b[0;34m\u001b[0m\u001b[0m\n",
      "\u001b[0;32m/opt/spark/spark-2.3.2-bin-hadoop2.7/python/lib/py4j-0.10.7-src.zip/py4j/protocol.py\u001b[0m in \u001b[0;36mget_return_value\u001b[0;34m(answer, gateway_client, target_id, name)\u001b[0m\n\u001b[1;32m    327\u001b[0m                     \u001b[0;34m\"An error occurred while calling {0}{1}{2}.\\n\"\u001b[0m\u001b[0;34m.\u001b[0m\u001b[0;34m\u001b[0m\u001b[0m\n\u001b[0;32m--> 328\u001b[0;31m                     format(target_id, \".\", name), value)\n\u001b[0m\u001b[1;32m    329\u001b[0m             \u001b[0;32melse\u001b[0m\u001b[0;34m:\u001b[0m\u001b[0;34m\u001b[0m\u001b[0m\n",
      "\u001b[0;31mPy4JJavaError\u001b[0m: An error occurred while calling o1083.parquet.\n: org.apache.spark.sql.AnalysisException: path file:/home/valentin/Desktop/ADA/Ada-Project/origins.parquet already exists.;\n\tat org.apache.spark.sql.execution.datasources.InsertIntoHadoopFsRelationCommand.run(InsertIntoHadoopFsRelationCommand.scala:109)\n\tat org.apache.spark.sql.execution.command.DataWritingCommandExec.sideEffectResult$lzycompute(commands.scala:104)\n\tat org.apache.spark.sql.execution.command.DataWritingCommandExec.sideEffectResult(commands.scala:102)\n\tat org.apache.spark.sql.execution.command.DataWritingCommandExec.doExecute(commands.scala:122)\n\tat org.apache.spark.sql.execution.SparkPlan$$anonfun$execute$1.apply(SparkPlan.scala:131)\n\tat org.apache.spark.sql.execution.SparkPlan$$anonfun$execute$1.apply(SparkPlan.scala:127)\n\tat org.apache.spark.sql.execution.SparkPlan$$anonfun$executeQuery$1.apply(SparkPlan.scala:155)\n\tat org.apache.spark.rdd.RDDOperationScope$.withScope(RDDOperationScope.scala:151)\n\tat org.apache.spark.sql.execution.SparkPlan.executeQuery(SparkPlan.scala:152)\n\tat org.apache.spark.sql.execution.SparkPlan.execute(SparkPlan.scala:127)\n\tat org.apache.spark.sql.execution.QueryExecution.toRdd$lzycompute(QueryExecution.scala:80)\n\tat org.apache.spark.sql.execution.QueryExecution.toRdd(QueryExecution.scala:80)\n\tat org.apache.spark.sql.DataFrameWriter$$anonfun$runCommand$1.apply(DataFrameWriter.scala:656)\n\tat org.apache.spark.sql.DataFrameWriter$$anonfun$runCommand$1.apply(DataFrameWriter.scala:656)\n\tat org.apache.spark.sql.execution.SQLExecution$.withNewExecutionId(SQLExecution.scala:77)\n\tat org.apache.spark.sql.DataFrameWriter.runCommand(DataFrameWriter.scala:656)\n\tat org.apache.spark.sql.DataFrameWriter.saveToV1Source(DataFrameWriter.scala:273)\n\tat org.apache.spark.sql.DataFrameWriter.save(DataFrameWriter.scala:267)\n\tat org.apache.spark.sql.DataFrameWriter.save(DataFrameWriter.scala:225)\n\tat org.apache.spark.sql.DataFrameWriter.parquet(DataFrameWriter.scala:549)\n\tat sun.reflect.NativeMethodAccessorImpl.invoke0(Native Method)\n\tat sun.reflect.NativeMethodAccessorImpl.invoke(NativeMethodAccessorImpl.java:62)\n\tat sun.reflect.DelegatingMethodAccessorImpl.invoke(DelegatingMethodAccessorImpl.java:43)\n\tat java.lang.reflect.Method.invoke(Method.java:498)\n\tat py4j.reflection.MethodInvoker.invoke(MethodInvoker.java:244)\n\tat py4j.reflection.ReflectionEngine.invoke(ReflectionEngine.java:357)\n\tat py4j.Gateway.invoke(Gateway.java:282)\n\tat py4j.commands.AbstractCommand.invokeMethod(AbstractCommand.java:132)\n\tat py4j.commands.CallCommand.execute(CallCommand.java:79)\n\tat py4j.GatewayConnection.run(GatewayConnection.java:238)\n\tat java.lang.Thread.run(Thread.java:748)\n",
      "\nDuring handling of the above exception, another exception occurred:\n",
      "\u001b[0;31mAnalysisException\u001b[0m                         Traceback (most recent call last)",
      "\u001b[0;32m<ipython-input-94-2fe2c431f725>\u001b[0m in \u001b[0;36m<module>\u001b[0;34m\u001b[0m\n\u001b[1;32m      1\u001b[0m \u001b[0morigins_total\u001b[0m \u001b[0;34m=\u001b[0m \u001b[0morigins_total_1\u001b[0m\u001b[0;34m.\u001b[0m\u001b[0munion\u001b[0m\u001b[0;34m(\u001b[0m\u001b[0morigins_total_2\u001b[0m\u001b[0;34m)\u001b[0m\u001b[0;34m\u001b[0m\u001b[0m\n\u001b[1;32m      2\u001b[0m \u001b[0morigins_total\u001b[0m\u001b[0;34m.\u001b[0m\u001b[0mshow\u001b[0m\u001b[0;34m(\u001b[0m\u001b[0;36m30\u001b[0m\u001b[0;34m)\u001b[0m\u001b[0;34m\u001b[0m\u001b[0m\n\u001b[0;32m----> 3\u001b[0;31m \u001b[0morigins_total\u001b[0m\u001b[0;34m.\u001b[0m\u001b[0mwrite\u001b[0m\u001b[0;34m.\u001b[0m\u001b[0mparquet\u001b[0m\u001b[0;34m(\u001b[0m\u001b[0;34m\"origins.parquet\"\u001b[0m\u001b[0;34m)\u001b[0m\u001b[0;34m\u001b[0m\u001b[0m\n\u001b[0m",
      "\u001b[0;32m/opt/spark/spark-2.3.2-bin-hadoop2.7/python/pyspark/sql/readwriter.py\u001b[0m in \u001b[0;36mparquet\u001b[0;34m(self, path, mode, partitionBy, compression)\u001b[0m\n\u001b[1;32m    802\u001b[0m             \u001b[0mself\u001b[0m\u001b[0;34m.\u001b[0m\u001b[0mpartitionBy\u001b[0m\u001b[0;34m(\u001b[0m\u001b[0mpartitionBy\u001b[0m\u001b[0;34m)\u001b[0m\u001b[0;34m\u001b[0m\u001b[0m\n\u001b[1;32m    803\u001b[0m         \u001b[0mself\u001b[0m\u001b[0;34m.\u001b[0m\u001b[0m_set_opts\u001b[0m\u001b[0;34m(\u001b[0m\u001b[0mcompression\u001b[0m\u001b[0;34m=\u001b[0m\u001b[0mcompression\u001b[0m\u001b[0;34m)\u001b[0m\u001b[0;34m\u001b[0m\u001b[0m\n\u001b[0;32m--> 804\u001b[0;31m         \u001b[0mself\u001b[0m\u001b[0;34m.\u001b[0m\u001b[0m_jwrite\u001b[0m\u001b[0;34m.\u001b[0m\u001b[0mparquet\u001b[0m\u001b[0;34m(\u001b[0m\u001b[0mpath\u001b[0m\u001b[0;34m)\u001b[0m\u001b[0;34m\u001b[0m\u001b[0m\n\u001b[0m\u001b[1;32m    805\u001b[0m \u001b[0;34m\u001b[0m\u001b[0m\n\u001b[1;32m    806\u001b[0m     \u001b[0;34m@\u001b[0m\u001b[0msince\u001b[0m\u001b[0;34m(\u001b[0m\u001b[0;36m1.6\u001b[0m\u001b[0;34m)\u001b[0m\u001b[0;34m\u001b[0m\u001b[0m\n",
      "\u001b[0;32m/opt/spark/spark-2.3.2-bin-hadoop2.7/python/lib/py4j-0.10.7-src.zip/py4j/java_gateway.py\u001b[0m in \u001b[0;36m__call__\u001b[0;34m(self, *args)\u001b[0m\n\u001b[1;32m   1255\u001b[0m         \u001b[0manswer\u001b[0m \u001b[0;34m=\u001b[0m \u001b[0mself\u001b[0m\u001b[0;34m.\u001b[0m\u001b[0mgateway_client\u001b[0m\u001b[0;34m.\u001b[0m\u001b[0msend_command\u001b[0m\u001b[0;34m(\u001b[0m\u001b[0mcommand\u001b[0m\u001b[0;34m)\u001b[0m\u001b[0;34m\u001b[0m\u001b[0m\n\u001b[1;32m   1256\u001b[0m         return_value = get_return_value(\n\u001b[0;32m-> 1257\u001b[0;31m             answer, self.gateway_client, self.target_id, self.name)\n\u001b[0m\u001b[1;32m   1258\u001b[0m \u001b[0;34m\u001b[0m\u001b[0m\n\u001b[1;32m   1259\u001b[0m         \u001b[0;32mfor\u001b[0m \u001b[0mtemp_arg\u001b[0m \u001b[0;32min\u001b[0m \u001b[0mtemp_args\u001b[0m\u001b[0;34m:\u001b[0m\u001b[0;34m\u001b[0m\u001b[0m\n",
      "\u001b[0;32m/opt/spark/spark-2.3.2-bin-hadoop2.7/python/pyspark/sql/utils.py\u001b[0m in \u001b[0;36mdeco\u001b[0;34m(*a, **kw)\u001b[0m\n\u001b[1;32m     67\u001b[0m                                              e.java_exception.getStackTrace()))\n\u001b[1;32m     68\u001b[0m             \u001b[0;32mif\u001b[0m \u001b[0ms\u001b[0m\u001b[0;34m.\u001b[0m\u001b[0mstartswith\u001b[0m\u001b[0;34m(\u001b[0m\u001b[0;34m'org.apache.spark.sql.AnalysisException: '\u001b[0m\u001b[0;34m)\u001b[0m\u001b[0;34m:\u001b[0m\u001b[0;34m\u001b[0m\u001b[0m\n\u001b[0;32m---> 69\u001b[0;31m                 \u001b[0;32mraise\u001b[0m \u001b[0mAnalysisException\u001b[0m\u001b[0;34m(\u001b[0m\u001b[0ms\u001b[0m\u001b[0;34m.\u001b[0m\u001b[0msplit\u001b[0m\u001b[0;34m(\u001b[0m\u001b[0;34m': '\u001b[0m\u001b[0;34m,\u001b[0m \u001b[0;36m1\u001b[0m\u001b[0;34m)\u001b[0m\u001b[0;34m[\u001b[0m\u001b[0;36m1\u001b[0m\u001b[0;34m]\u001b[0m\u001b[0;34m,\u001b[0m \u001b[0mstackTrace\u001b[0m\u001b[0;34m)\u001b[0m\u001b[0;34m\u001b[0m\u001b[0m\n\u001b[0m\u001b[1;32m     70\u001b[0m             \u001b[0;32mif\u001b[0m \u001b[0ms\u001b[0m\u001b[0;34m.\u001b[0m\u001b[0mstartswith\u001b[0m\u001b[0;34m(\u001b[0m\u001b[0;34m'org.apache.spark.sql.catalyst.analysis'\u001b[0m\u001b[0;34m)\u001b[0m\u001b[0;34m:\u001b[0m\u001b[0;34m\u001b[0m\u001b[0m\n\u001b[1;32m     71\u001b[0m                 \u001b[0;32mraise\u001b[0m \u001b[0mAnalysisException\u001b[0m\u001b[0;34m(\u001b[0m\u001b[0ms\u001b[0m\u001b[0;34m.\u001b[0m\u001b[0msplit\u001b[0m\u001b[0;34m(\u001b[0m\u001b[0;34m': '\u001b[0m\u001b[0;34m,\u001b[0m \u001b[0;36m1\u001b[0m\u001b[0;34m)\u001b[0m\u001b[0;34m[\u001b[0m\u001b[0;36m1\u001b[0m\u001b[0;34m]\u001b[0m\u001b[0;34m,\u001b[0m \u001b[0mstackTrace\u001b[0m\u001b[0;34m)\u001b[0m\u001b[0;34m\u001b[0m\u001b[0m\n",
      "\u001b[0;31mAnalysisException\u001b[0m: 'path file:/home/valentin/Desktop/ADA/Ada-Project/origins.parquet already exists.;'"
     ]
    }
   ],
   "source": [
    "origins_total = origins_total_1.union(origins_total_2)\n",
    "origins_total.show(30)\n",
    "origins_total.write.parquet(\"origins.parquet\")"
   ]
  },
  {
   "cell_type": "code",
   "execution_count": 81,
   "metadata": {},
   "outputs": [
    {
     "name": "stdout",
     "output_type": "stream",
     "text": [
      "+----------------+\n",
      "|sum(total_count)|\n",
      "+----------------+\n",
      "|           13931|\n",
      "+----------------+\n",
      "\n"
     ]
    }
   ],
   "source": [
    "origins_total.groupBy().sum().show()"
   ]
  },
  {
   "cell_type": "code",
   "execution_count": null,
   "metadata": {},
   "outputs": [],
   "source": []
  },
  {
   "cell_type": "markdown",
   "metadata": {},
   "source": [
    "#### Packaging"
   ]
  },
  {
   "cell_type": "code",
   "execution_count": 505,
   "metadata": {},
   "outputs": [
    {
     "data": {
      "text/plain": [
       "24968"
      ]
     },
     "execution_count": 505,
     "metadata": {},
     "output_type": "execute_result"
    }
   ],
   "source": [
    "data.filter(data.packaging != \"\").groupBy(\"packaging\").count().count()"
   ]
  },
  {
   "cell_type": "code",
   "execution_count": 506,
   "metadata": {},
   "outputs": [
    {
     "data": {
      "text/plain": [
       "20115"
      ]
     },
     "execution_count": 506,
     "metadata": {},
     "output_type": "execute_result"
    }
   ],
   "source": [
    "data.filter(data.packaging_tags != \"\").groupBy(\"packaging_tags\").count().count()"
   ]
  },
  {
   "cell_type": "markdown",
   "metadata": {},
   "source": [
    "#### Categories"
   ]
  },
  {
   "cell_type": "code",
   "execution_count": null,
   "metadata": {},
   "outputs": [],
   "source": [
    "data.filter(data.categories != \"\").groupBy(\"categories\").count().count()"
   ]
  },
  {
   "cell_type": "code",
   "execution_count": null,
   "metadata": {},
   "outputs": [],
   "source": [
    "data.filter(data.categories_tags != \"\").groupBy(\"categories_tags\").count().count()"
   ]
  },
  {
   "cell_type": "markdown",
   "metadata": {},
   "source": [
    "## Analysis of Data"
   ]
  },
  {
   "cell_type": "markdown",
   "metadata": {},
   "source": [
    "**Origins**"
   ]
  },
  {
   "cell_type": "code",
   "execution_count": 21,
   "metadata": {},
   "outputs": [
    {
     "data": {
      "text/plain": [
       "Text(0, 0.5, 'Number of countries')"
      ]
     },
     "execution_count": 21,
     "metadata": {},
     "output_type": "execute_result"
    },
    {
     "data": {
      "image/png": "[encoded data removed]",
      "text/plain": [
       "<Figure size 432x288 with 1 Axes>"
      ]
     },
     "metadata": {
      "needs_background": "light"
     },
     "output_type": "display_data"
    }
   ],
   "source": [
    "#Converting to Pandas\n",
    "origins_total_pd = origins_total.toPandas()\n",
    "countries_formatted_pd = countries_formatted.toPandas()\n",
    "\n",
    "# Plot of the histogram\n",
    "plt.hist(origins_total_pd['total_count'], bins = 100)\n",
    "plt.title('Distribution of products per origin countries')\n",
    "plt.xlabel('Number of products')\n",
    "plt.ylabel('Number of countries')\n"
   ]
  },
  {
   "cell_type": "code",
   "execution_count": null,
   "metadata": {},
   "outputs": [],
   "source": [
    "# Plot of the histogram in log scale\n",
    "plt.hist(np.log(origins_total_pd['total_count']), histtype=u'step', bins = 100)\n",
    "plt.title('Distribution of products per origin countries')\n",
    "plt.xlabel('Number of products [log scale]')\n",
    "plt.ylabel('Number of countries')\n",
    "# J'arrive pas à tracer les max de ça, mais e pense que c'est linéaire! "
   ]
  },
  {
   "cell_type": "code",
   "execution_count": null,
   "metadata": {},
   "outputs": [],
   "source": [
    "# There's an outlier at more than 10000 products:\n",
    "# --> France is over-represented in the dataframe\n",
    "plt.hist(origins_total_pd['total_count'], bins = 20, range=(0,1250))\n",
    "plt.title('Distribution of products per origin countries without France')\n",
    "plt.xlabel('Number of products')\n",
    "plt.ylabel('Number of countries')"
   ]
  },
  {
   "cell_type": "code",
   "execution_count": 22,
   "metadata": {},
   "outputs": [],
   "source": [
    "# Creating dataframes with only the interesting columns, adding counts of 0 for the countries where there's no products\n",
    "origins_to_map = pd.DataFrame({'counts': origins_total_pd['total_count'].values, 'alpha-3':origins_total_pd['alpha-3'].values})\n",
    "countries_formatted_pd = pd.DataFrame({'counts': np.zeros(len(countries_formatted_pd)), 'alpha-3':countries_formatted_pd['alpha-3'].values}) #,\\\n",
    "                            \n",
    "# Merging the two dataframe, order by counts, then drop the first duplicate \n",
    "# By merging the dataframes, some countries are duplicates, so by doing this, \n",
    "# You make sure that it's the one with count 0 that is dropped. \n",
    "origins_to_map = origins_to_map.append(countries_formatted_pd, ignore_index=True)\n",
    "origins_to_map = origins_to_map.sort_values('counts').drop_duplicates('alpha-3', keep = \"last\")\n",
    "\n",
    "# creating a Serie that can be used in the colormap\n",
    "S_origins_to_map =pd.Series(origins_to_map['counts'].values, index=origins_to_map['alpha-3'].values).astype(int)\n",
    "\n",
    "# Some countries are missing from the csv file --> We have to manually add them. \n",
    "# Changes in JSON: for northern cyprus: '-99' --> NCYP, somalilia(?) '-99'--> SOMA\n",
    "Missing_index = ['SSD','MNE','SRB','NCYP','SOMA','CS-KM']\n",
    "Missing = pd.Series(np.zeros(6), index = Missing_index)\n",
    "S_origins_to_map= S_origins_to_map.append(Missing)"
   ]
  },
  {
   "cell_type": "code",
   "execution_count": null,
   "metadata": {},
   "outputs": [],
   "source": [
    "#Plot the counts of the 10 most popular tags\n",
    "S_origins_to_map= S_origins_to_map.sort_values()\n",
    "S_origins_to_map.tail(10).iloc[::-1].plot(kind = \"barh\", grid = True, figsize = (10,5))\n",
    "plt.xlabel(\"Number of products\")\n",
    "plt.ylabel(\"Countries\")\n",
    "plt.title(\"Counts of 10 most popular origins\")"
   ]
  },
  {
   "cell_type": "code",
   "execution_count": 23,
   "metadata": {},
   "outputs": [],
   "source": [
    "# loading a blank map \n",
    "Origins_map = folium.Map([0,0], tiles = 'cartodbpositron', zoom_start = 1.5)\n",
    "\n",
    "# overlaying national borders\n",
    "geo_json_data = json.load(open(\"data/countries.json\"))\n",
    "\n",
    "# defining the color scale\n",
    "color_scale = branca.colormap.linear.Spectral_11.scale(0, 1500)\n",
    "#color_scale = branca.colormap.linear.YlGnBu_09.scale(0, 1500)\n",
    "#color_scale = branca.colormap.linear.YlOrRd_05.scale(0, 1500)\n",
    "color_scale.caption = 'Number of products coming from the country'\n",
    "Origins_map.add_child(color_scale)\n",
    "\n",
    "# style function based on the color scale\n",
    "def style_function(feature):\n",
    "    value = S_origins_to_map.get(feature['id'])\n",
    "    return {  \n",
    "        'fillOpacity': 0.7,\n",
    "        'weight': 0.7,\n",
    "        'color': '#000000',\n",
    "        'fillColor': '#708090' if (value==0) else color_scale(value)\n",
    "    }\n",
    "\n",
    "# adding the style function to the map\n",
    "folium.TopoJson(\n",
    "        geo_json_data,\n",
    "        'objects.countries1',\n",
    "        style_function = style_function,\n",
    "        tooltip = folium.GeoJsonTooltip(['name'], labels = False, style = 'font-size:10px')\n",
    "    ).add_to(Origins_map)\n",
    "\n",
    "Origins_map.save(\"map.html\")"
   ]
  },
  {
   "cell_type": "code",
   "execution_count": null,
   "metadata": {},
   "outputs": [],
   "source": []
  }
 ],
 "metadata": {
  "kernelspec": {
   "display_name": "Python [conda env:ada]",
   "language": "python",
   "name": "conda-env-ada-py"
  },
  "language_info": {
   "codemirror_mode": {
    "name": "ipython",
    "version": 3
   },
   "file_extension": ".py",
   "mimetype": "text/x-python",
   "name": "python",
   "nbconvert_exporter": "python",
   "pygments_lexer": "ipython3",
   "version": "3.6.6"
  }
 },
 "nbformat": 4,
 "nbformat_minor": 2
}
