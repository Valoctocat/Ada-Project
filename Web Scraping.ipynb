{
 "cells": [
  {
   "cell_type": "code",
   "execution_count": 214,
   "metadata": {},
   "outputs": [],
   "source": [
    "import requests\n",
    "from bs4 import BeautifulSoup\n",
    "import numpy as np\n",
    "import pandas as pd"
   ]
  },
  {
   "cell_type": "code",
   "execution_count": 93,
   "metadata": {},
   "outputs": [],
   "source": [
    "URL = \"https://www.greenpeace.fr/guetteur/calendrier\""
   ]
  },
  {
   "cell_type": "code",
   "execution_count": 94,
   "metadata": {},
   "outputs": [],
   "source": [
    "r = requests.get(URL)\n",
    "page_body = r.text"
   ]
  },
  {
   "cell_type": "code",
   "execution_count": 95,
   "metadata": {},
   "outputs": [],
   "source": [
    "soup = BeautifulSoup(page_body, \"html.parser\")"
   ]
  },
  {
   "cell_type": "code",
   "execution_count": 96,
   "metadata": {},
   "outputs": [],
   "source": [
    "months = soup.find_all('h3')"
   ]
  },
  {
   "cell_type": "code",
   "execution_count": 97,
   "metadata": {},
   "outputs": [],
   "source": [
    "body = soup.find(\"body\")"
   ]
  },
  {
   "cell_type": "code",
   "execution_count": 98,
   "metadata": {},
   "outputs": [],
   "source": [
    "months = body.find_all('div', class_='calendar')"
   ]
  },
  {
   "cell_type": "code",
   "execution_count": 162,
   "metadata": {
    "scrolled": false
   },
   "outputs": [
    {
     "name": "stdout",
     "output_type": "stream",
     "text": [
      "\n"
     ]
    }
   ],
   "source": [
    "calendar = []\n",
    "for month in months :\n",
    "    month_str = month.find(\"a\")[\"name\"]\n",
    "    all_products = month.find_all(\"div\", class_=\"ul\")\n",
    "    for prod in all_products:\n",
    "        p = prod.find_all(\"div\", class_=\"col-xs-6 li\")\n",
    "        for i in p:\n",
    "            calendar.append([month_str,i.text.strip()])\n",
    "pd.DataFrame(calendar, columns=[\"month\", \"Products\"]).to_csv(\"seasonnal_products.csv\")\n",
    "print(\"\")"
   ]
  },
  {
   "cell_type": "code",
   "execution_count": 142,
   "metadata": {},
   "outputs": [
    {
     "data": {
      "text/plain": [
       "'Ail\\n                  '"
      ]
     },
     "execution_count": 142,
     "metadata": {},
     "output_type": "execute_result"
    }
   ],
   "source": [
    "calendar[0]"
   ]
  },
  {
   "cell_type": "code",
   "execution_count": 215,
   "metadata": {},
   "outputs": [],
   "source": [
    "URL2 = 'http://www.ile-de-france.chambagri.fr/affiche-produit-de-saison'\n",
    "r = requests.get(URL2)\n",
    "page_body = r.text.encode('latin1').decode(\"ascii\", \"replace\")\n",
    "soup = BeautifulSoup(page_body, \"html.parser\")\n",
    "products = soup.find_all(\"div\", class_=\"selector\")"
   ]
  },
  {
   "cell_type": "code",
   "execution_count": 226,
   "metadata": {},
   "outputs": [],
   "source": [
    "calendar = []\n",
    "for prod in products:\n",
    "    product = prod.find(\"p\").string\n",
    "    seasons = prod.find_all(\"img\", class_=\"tipsy-n\")\n",
    "    for season in seasons:\n",
    "        calendar.append([product, season[\"tipsy\"]])\n",
    "pd.DataFrame(calendar, columns = [\"Product\", \"Season\"]).to_csv(\"seasonnal_products_2.csv\")"
   ]
  },
  {
   "cell_type": "code",
   "execution_count": null,
   "metadata": {},
   "outputs": [],
   "source": []
  }
 ],
 "metadata": {
  "kernelspec": {
   "display_name": "Python [conda env:Anaconda3]",
   "language": "python",
   "name": "conda-env-Anaconda3-py"
  },
  "language_info": {
   "codemirror_mode": {
    "name": "ipython",
    "version": 3
   },
   "file_extension": ".py",
   "mimetype": "text/x-python",
   "name": "python",
   "nbconvert_exporter": "python",
   "pygments_lexer": "ipython3",
   "version": "3.6.5"
  }
 },
 "nbformat": 4,
 "nbformat_minor": 2
}
